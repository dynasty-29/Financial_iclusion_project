{
  "cells": [
    {
      "cell_type": "markdown",
      "metadata": {
        "id": "MIMZYyBbD1Fc"
      },
      "source": [
        "## **INTRODUCTION**\n",
        "Financial Inclusion remains one of the main obstacles to economic and human development in Africa. For example, across Kenya, Rwanda, Tanzania, and Uganda only 9.1 million adults (or 13.9% of the adult population) have access to or use a commercial bank account.\n",
        "\n",
        "Traditionally, access to bank accounts has been regarded as an indicator of financial inclusion. Despite the proliferation of mobile money in Africa and the growth of innovative fintech solutions, banks still play a pivotal role in facilitating access to financial services. Access to bank accounts enables households to save and facilitate payments while also helping businesses build up their credit-worthiness and improve their access to other financial services. Therefore, access to bank accounts is an essential contributor to long-term economic growth.\n",
        "\n"
      ]
    },
    {
      "cell_type": "markdown",
      "metadata": {
        "id": "2Q0OC05pvAIE"
      },
      "source": [
        "# **BUSINESS OBJECTIVE**\n",
        "The research problem is to figure out how we can predict which individuals are most likely to have or use a bank account. As the data science lead i will help provide an indication of the state of financial inclusion in Kenya, Rwanda, Tanzania, and Uganda, while providing insights into some of the key demographic factors that might drive individuals’ financial outcomes."
      ]
    },
    {
      "cell_type": "markdown",
      "metadata": {
        "id": "LoFp2Yp8EIph"
      },
      "source": [
        "**IMPORTING LIBRARIES**\n",
        "\n",
        "\n",
        "So i will start with importing important libraries.\n",
        "And also loading the data and move on to data cleaning and data analysis.\n",
        "So let's go..."
      ]
    },
    {
      "cell_type": "code",
      "execution_count": null,
      "metadata": {
        "id": "VlwxnBJqEY-G"
      },
      "outputs": [],
      "source": [
        "#importing important libraries for the first part of the project\n",
        "import pandas as pd\n",
        "import numpy as np\n",
        "import seaborn as sns\n",
        "import matplotlib.pyplot as plt"
      ]
    },
    {
      "cell_type": "markdown",
      "metadata": {
        "id": "tP3NfxgGHOul"
      },
      "source": [
        "# **Data Understanding**:\n",
        "Will now load our datasets and take a tour on our data and try to understand it"
      ]
    },
    {
      "cell_type": "code",
      "execution_count": null,
      "metadata": {
        "colab": {
          "base_uri": "https://localhost:8080/"
        },
        "id": "Z9Rvn0qu2LAp",
        "outputId": "bea5cc1b-4f48-4ac0-cfbd-0a9b76d13595"
      },
      "outputs": [
        {
          "output_type": "execute_result",
          "data": {
            "text/plain": [
              "(23524, 13)"
            ]
          },
          "metadata": {},
          "execution_count": 2
        }
      ],
      "source": [
        "#We now load our data \n",
        "#and check the record entries\n",
        "# url = 'http://bit.ly/FinancialDataset'\n",
        "df = pd.read_csv('http://bit.ly/FinancialDataset')\n",
        "df.shape"
      ]
    },
    {
      "cell_type": "code",
      "execution_count": null,
      "metadata": {
        "colab": {
          "base_uri": "https://localhost:8080/",
          "height": 426
        },
        "id": "FTDl21BU5LOi",
        "outputId": "badcb4fb-5364-4d73-c316-1eaaa2ddd16e"
      },
      "outputs": [
        {
          "output_type": "execute_result",
          "data": {
            "text/plain": [
              "  country  year    uniqueid Has a Bank account Type of Location  \\\n",
              "0   Kenya  2018  uniqueid_1                Yes            Rural   \n",
              "1   Kenya  2018  uniqueid_2                 No            Rural   \n",
              "2   Kenya  2018  uniqueid_3                Yes            Urban   \n",
              "3   Kenya  2018  uniqueid_4                 No            Rural   \n",
              "4   Kenya  2018  uniqueid_5                 No            Urban   \n",
              "\n",
              "  Cell Phone Access  household_size  Respondent Age gender_of_respondent  \\\n",
              "0               Yes             3.0            24.0               Female   \n",
              "1                No             5.0            70.0               Female   \n",
              "2               Yes             5.0            26.0                 Male   \n",
              "3               Yes             5.0            34.0               Female   \n",
              "4                No             8.0            26.0                 Male   \n",
              "\n",
              "  The relathip with head           marital_status  \\\n",
              "0                 Spouse  Married/Living together   \n",
              "1      Head of Household                  Widowed   \n",
              "2         Other relative     Single/Never Married   \n",
              "3      Head of Household  Married/Living together   \n",
              "4                  Child     Single/Never Married   \n",
              "\n",
              "               Level of Educuation                Type of Job  \n",
              "0              Secondary education              Self employed  \n",
              "1              No formal education       Government Dependent  \n",
              "2  Vocational/Specialised training              Self employed  \n",
              "3                Primary education  Formally employed Private  \n",
              "4                Primary education        Informally employed  "
            ],
            "text/html": [
              "\n",
              "  <div id=\"df-e37ef58d-ca4c-4ef5-a3dd-fa5c5eda06fb\">\n",
              "    <div class=\"colab-df-container\">\n",
              "      <div>\n",
              "<style scoped>\n",
              "    .dataframe tbody tr th:only-of-type {\n",
              "        vertical-align: middle;\n",
              "    }\n",
              "\n",
              "    .dataframe tbody tr th {\n",
              "        vertical-align: top;\n",
              "    }\n",
              "\n",
              "    .dataframe thead th {\n",
              "        text-align: right;\n",
              "    }\n",
              "</style>\n",
              "<table border=\"1\" class=\"dataframe\">\n",
              "  <thead>\n",
              "    <tr style=\"text-align: right;\">\n",
              "      <th></th>\n",
              "      <th>country</th>\n",
              "      <th>year</th>\n",
              "      <th>uniqueid</th>\n",
              "      <th>Has a Bank account</th>\n",
              "      <th>Type of Location</th>\n",
              "      <th>Cell Phone Access</th>\n",
              "      <th>household_size</th>\n",
              "      <th>Respondent Age</th>\n",
              "      <th>gender_of_respondent</th>\n",
              "      <th>The relathip with head</th>\n",
              "      <th>marital_status</th>\n",
              "      <th>Level of Educuation</th>\n",
              "      <th>Type of Job</th>\n",
              "    </tr>\n",
              "  </thead>\n",
              "  <tbody>\n",
              "    <tr>\n",
              "      <th>0</th>\n",
              "      <td>Kenya</td>\n",
              "      <td>2018</td>\n",
              "      <td>uniqueid_1</td>\n",
              "      <td>Yes</td>\n",
              "      <td>Rural</td>\n",
              "      <td>Yes</td>\n",
              "      <td>3.0</td>\n",
              "      <td>24.0</td>\n",
              "      <td>Female</td>\n",
              "      <td>Spouse</td>\n",
              "      <td>Married/Living together</td>\n",
              "      <td>Secondary education</td>\n",
              "      <td>Self employed</td>\n",
              "    </tr>\n",
              "    <tr>\n",
              "      <th>1</th>\n",
              "      <td>Kenya</td>\n",
              "      <td>2018</td>\n",
              "      <td>uniqueid_2</td>\n",
              "      <td>No</td>\n",
              "      <td>Rural</td>\n",
              "      <td>No</td>\n",
              "      <td>5.0</td>\n",
              "      <td>70.0</td>\n",
              "      <td>Female</td>\n",
              "      <td>Head of Household</td>\n",
              "      <td>Widowed</td>\n",
              "      <td>No formal education</td>\n",
              "      <td>Government Dependent</td>\n",
              "    </tr>\n",
              "    <tr>\n",
              "      <th>2</th>\n",
              "      <td>Kenya</td>\n",
              "      <td>2018</td>\n",
              "      <td>uniqueid_3</td>\n",
              "      <td>Yes</td>\n",
              "      <td>Urban</td>\n",
              "      <td>Yes</td>\n",
              "      <td>5.0</td>\n",
              "      <td>26.0</td>\n",
              "      <td>Male</td>\n",
              "      <td>Other relative</td>\n",
              "      <td>Single/Never Married</td>\n",
              "      <td>Vocational/Specialised training</td>\n",
              "      <td>Self employed</td>\n",
              "    </tr>\n",
              "    <tr>\n",
              "      <th>3</th>\n",
              "      <td>Kenya</td>\n",
              "      <td>2018</td>\n",
              "      <td>uniqueid_4</td>\n",
              "      <td>No</td>\n",
              "      <td>Rural</td>\n",
              "      <td>Yes</td>\n",
              "      <td>5.0</td>\n",
              "      <td>34.0</td>\n",
              "      <td>Female</td>\n",
              "      <td>Head of Household</td>\n",
              "      <td>Married/Living together</td>\n",
              "      <td>Primary education</td>\n",
              "      <td>Formally employed Private</td>\n",
              "    </tr>\n",
              "    <tr>\n",
              "      <th>4</th>\n",
              "      <td>Kenya</td>\n",
              "      <td>2018</td>\n",
              "      <td>uniqueid_5</td>\n",
              "      <td>No</td>\n",
              "      <td>Urban</td>\n",
              "      <td>No</td>\n",
              "      <td>8.0</td>\n",
              "      <td>26.0</td>\n",
              "      <td>Male</td>\n",
              "      <td>Child</td>\n",
              "      <td>Single/Never Married</td>\n",
              "      <td>Primary education</td>\n",
              "      <td>Informally employed</td>\n",
              "    </tr>\n",
              "  </tbody>\n",
              "</table>\n",
              "</div>\n",
              "      <button class=\"colab-df-convert\" onclick=\"convertToInteractive('df-e37ef58d-ca4c-4ef5-a3dd-fa5c5eda06fb')\"\n",
              "              title=\"Convert this dataframe to an interactive table.\"\n",
              "              style=\"display:none;\">\n",
              "        \n",
              "  <svg xmlns=\"http://www.w3.org/2000/svg\" height=\"24px\"viewBox=\"0 0 24 24\"\n",
              "       width=\"24px\">\n",
              "    <path d=\"M0 0h24v24H0V0z\" fill=\"none\"/>\n",
              "    <path d=\"M18.56 5.44l.94 2.06.94-2.06 2.06-.94-2.06-.94-.94-2.06-.94 2.06-2.06.94zm-11 1L8.5 8.5l.94-2.06 2.06-.94-2.06-.94L8.5 2.5l-.94 2.06-2.06.94zm10 10l.94 2.06.94-2.06 2.06-.94-2.06-.94-.94-2.06-.94 2.06-2.06.94z\"/><path d=\"M17.41 7.96l-1.37-1.37c-.4-.4-.92-.59-1.43-.59-.52 0-1.04.2-1.43.59L10.3 9.45l-7.72 7.72c-.78.78-.78 2.05 0 2.83L4 21.41c.39.39.9.59 1.41.59.51 0 1.02-.2 1.41-.59l7.78-7.78 2.81-2.81c.8-.78.8-2.07 0-2.86zM5.41 20L4 18.59l7.72-7.72 1.47 1.35L5.41 20z\"/>\n",
              "  </svg>\n",
              "      </button>\n",
              "      \n",
              "  <style>\n",
              "    .colab-df-container {\n",
              "      display:flex;\n",
              "      flex-wrap:wrap;\n",
              "      gap: 12px;\n",
              "    }\n",
              "\n",
              "    .colab-df-convert {\n",
              "      background-color: #E8F0FE;\n",
              "      border: none;\n",
              "      border-radius: 50%;\n",
              "      cursor: pointer;\n",
              "      display: none;\n",
              "      fill: #1967D2;\n",
              "      height: 32px;\n",
              "      padding: 0 0 0 0;\n",
              "      width: 32px;\n",
              "    }\n",
              "\n",
              "    .colab-df-convert:hover {\n",
              "      background-color: #E2EBFA;\n",
              "      box-shadow: 0px 1px 2px rgba(60, 64, 67, 0.3), 0px 1px 3px 1px rgba(60, 64, 67, 0.15);\n",
              "      fill: #174EA6;\n",
              "    }\n",
              "\n",
              "    [theme=dark] .colab-df-convert {\n",
              "      background-color: #3B4455;\n",
              "      fill: #D2E3FC;\n",
              "    }\n",
              "\n",
              "    [theme=dark] .colab-df-convert:hover {\n",
              "      background-color: #434B5C;\n",
              "      box-shadow: 0px 1px 3px 1px rgba(0, 0, 0, 0.15);\n",
              "      filter: drop-shadow(0px 1px 2px rgba(0, 0, 0, 0.3));\n",
              "      fill: #FFFFFF;\n",
              "    }\n",
              "  </style>\n",
              "\n",
              "      <script>\n",
              "        const buttonEl =\n",
              "          document.querySelector('#df-e37ef58d-ca4c-4ef5-a3dd-fa5c5eda06fb button.colab-df-convert');\n",
              "        buttonEl.style.display =\n",
              "          google.colab.kernel.accessAllowed ? 'block' : 'none';\n",
              "\n",
              "        async function convertToInteractive(key) {\n",
              "          const element = document.querySelector('#df-e37ef58d-ca4c-4ef5-a3dd-fa5c5eda06fb');\n",
              "          const dataTable =\n",
              "            await google.colab.kernel.invokeFunction('convertToInteractive',\n",
              "                                                     [key], {});\n",
              "          if (!dataTable) return;\n",
              "\n",
              "          const docLinkHtml = 'Like what you see? Visit the ' +\n",
              "            '<a target=\"_blank\" href=https://colab.research.google.com/notebooks/data_table.ipynb>data table notebook</a>'\n",
              "            + ' to learn more about interactive tables.';\n",
              "          element.innerHTML = '';\n",
              "          dataTable['output_type'] = 'display_data';\n",
              "          await google.colab.output.renderOutput(dataTable, element);\n",
              "          const docLink = document.createElement('div');\n",
              "          docLink.innerHTML = docLinkHtml;\n",
              "          element.appendChild(docLink);\n",
              "        }\n",
              "      </script>\n",
              "    </div>\n",
              "  </div>\n",
              "  "
            ]
          },
          "metadata": {},
          "execution_count": 3
        }
      ],
      "source": [
        "#We view our first and last rows\n",
        "df.head()"
      ]
    },
    {
      "cell_type": "code",
      "execution_count": null,
      "metadata": {
        "colab": {
          "base_uri": "https://localhost:8080/",
          "height": 389
        },
        "id": "OuXLNMEe6o4U",
        "outputId": "51b03fe8-5070-4393-f114-4fc3e3608473"
      },
      "outputs": [
        {
          "output_type": "execute_result",
          "data": {
            "text/plain": [
              "      country  year       uniqueid Has a Bank account Type of Location  \\\n",
              "23519  Uganda  2018  uniqueid_2113                 No            Rural   \n",
              "23520  Uganda  2018  uniqueid_2114                 No            Rural   \n",
              "23521  Uganda  2018  uniqueid_2115                 No            Rural   \n",
              "23522  Uganda  2018  uniqueid_2116                 No            Urban   \n",
              "23523  Uganda  2018  uniqueid_2117                 No            Rural   \n",
              "\n",
              "      Cell Phone Access  household_size  Respondent Age gender_of_respondent  \\\n",
              "23519               Yes             4.0            48.0               Female   \n",
              "23520               Yes             2.0            27.0               Female   \n",
              "23521               Yes             5.0            27.0               Female   \n",
              "23522               Yes             7.0            30.0               Female   \n",
              "23523               Yes            10.0            20.0                 Male   \n",
              "\n",
              "      The relathip with head        marital_status  Level of Educuation  \\\n",
              "23519      Head of Household    Divorced/Seperated  No formal education   \n",
              "23520      Head of Household  Single/Never Married  Secondary education   \n",
              "23521                 Parent               Widowed    Primary education   \n",
              "23522                 Parent    Divorced/Seperated  Secondary education   \n",
              "23523                  Child  Single/Never Married  Secondary education   \n",
              "\n",
              "         Type of Job  \n",
              "23519   Other Income  \n",
              "23520   Other Income  \n",
              "23521   Other Income  \n",
              "23522  Self employed  \n",
              "23523      No Income  "
            ],
            "text/html": [
              "\n",
              "  <div id=\"df-f779c9d3-8aaa-4c63-adcc-dc28dc42b544\">\n",
              "    <div class=\"colab-df-container\">\n",
              "      <div>\n",
              "<style scoped>\n",
              "    .dataframe tbody tr th:only-of-type {\n",
              "        vertical-align: middle;\n",
              "    }\n",
              "\n",
              "    .dataframe tbody tr th {\n",
              "        vertical-align: top;\n",
              "    }\n",
              "\n",
              "    .dataframe thead th {\n",
              "        text-align: right;\n",
              "    }\n",
              "</style>\n",
              "<table border=\"1\" class=\"dataframe\">\n",
              "  <thead>\n",
              "    <tr style=\"text-align: right;\">\n",
              "      <th></th>\n",
              "      <th>country</th>\n",
              "      <th>year</th>\n",
              "      <th>uniqueid</th>\n",
              "      <th>Has a Bank account</th>\n",
              "      <th>Type of Location</th>\n",
              "      <th>Cell Phone Access</th>\n",
              "      <th>household_size</th>\n",
              "      <th>Respondent Age</th>\n",
              "      <th>gender_of_respondent</th>\n",
              "      <th>The relathip with head</th>\n",
              "      <th>marital_status</th>\n",
              "      <th>Level of Educuation</th>\n",
              "      <th>Type of Job</th>\n",
              "    </tr>\n",
              "  </thead>\n",
              "  <tbody>\n",
              "    <tr>\n",
              "      <th>23519</th>\n",
              "      <td>Uganda</td>\n",
              "      <td>2018</td>\n",
              "      <td>uniqueid_2113</td>\n",
              "      <td>No</td>\n",
              "      <td>Rural</td>\n",
              "      <td>Yes</td>\n",
              "      <td>4.0</td>\n",
              "      <td>48.0</td>\n",
              "      <td>Female</td>\n",
              "      <td>Head of Household</td>\n",
              "      <td>Divorced/Seperated</td>\n",
              "      <td>No formal education</td>\n",
              "      <td>Other Income</td>\n",
              "    </tr>\n",
              "    <tr>\n",
              "      <th>23520</th>\n",
              "      <td>Uganda</td>\n",
              "      <td>2018</td>\n",
              "      <td>uniqueid_2114</td>\n",
              "      <td>No</td>\n",
              "      <td>Rural</td>\n",
              "      <td>Yes</td>\n",
              "      <td>2.0</td>\n",
              "      <td>27.0</td>\n",
              "      <td>Female</td>\n",
              "      <td>Head of Household</td>\n",
              "      <td>Single/Never Married</td>\n",
              "      <td>Secondary education</td>\n",
              "      <td>Other Income</td>\n",
              "    </tr>\n",
              "    <tr>\n",
              "      <th>23521</th>\n",
              "      <td>Uganda</td>\n",
              "      <td>2018</td>\n",
              "      <td>uniqueid_2115</td>\n",
              "      <td>No</td>\n",
              "      <td>Rural</td>\n",
              "      <td>Yes</td>\n",
              "      <td>5.0</td>\n",
              "      <td>27.0</td>\n",
              "      <td>Female</td>\n",
              "      <td>Parent</td>\n",
              "      <td>Widowed</td>\n",
              "      <td>Primary education</td>\n",
              "      <td>Other Income</td>\n",
              "    </tr>\n",
              "    <tr>\n",
              "      <th>23522</th>\n",
              "      <td>Uganda</td>\n",
              "      <td>2018</td>\n",
              "      <td>uniqueid_2116</td>\n",
              "      <td>No</td>\n",
              "      <td>Urban</td>\n",
              "      <td>Yes</td>\n",
              "      <td>7.0</td>\n",
              "      <td>30.0</td>\n",
              "      <td>Female</td>\n",
              "      <td>Parent</td>\n",
              "      <td>Divorced/Seperated</td>\n",
              "      <td>Secondary education</td>\n",
              "      <td>Self employed</td>\n",
              "    </tr>\n",
              "    <tr>\n",
              "      <th>23523</th>\n",
              "      <td>Uganda</td>\n",
              "      <td>2018</td>\n",
              "      <td>uniqueid_2117</td>\n",
              "      <td>No</td>\n",
              "      <td>Rural</td>\n",
              "      <td>Yes</td>\n",
              "      <td>10.0</td>\n",
              "      <td>20.0</td>\n",
              "      <td>Male</td>\n",
              "      <td>Child</td>\n",
              "      <td>Single/Never Married</td>\n",
              "      <td>Secondary education</td>\n",
              "      <td>No Income</td>\n",
              "    </tr>\n",
              "  </tbody>\n",
              "</table>\n",
              "</div>\n",
              "      <button class=\"colab-df-convert\" onclick=\"convertToInteractive('df-f779c9d3-8aaa-4c63-adcc-dc28dc42b544')\"\n",
              "              title=\"Convert this dataframe to an interactive table.\"\n",
              "              style=\"display:none;\">\n",
              "        \n",
              "  <svg xmlns=\"http://www.w3.org/2000/svg\" height=\"24px\"viewBox=\"0 0 24 24\"\n",
              "       width=\"24px\">\n",
              "    <path d=\"M0 0h24v24H0V0z\" fill=\"none\"/>\n",
              "    <path d=\"M18.56 5.44l.94 2.06.94-2.06 2.06-.94-2.06-.94-.94-2.06-.94 2.06-2.06.94zm-11 1L8.5 8.5l.94-2.06 2.06-.94-2.06-.94L8.5 2.5l-.94 2.06-2.06.94zm10 10l.94 2.06.94-2.06 2.06-.94-2.06-.94-.94-2.06-.94 2.06-2.06.94z\"/><path d=\"M17.41 7.96l-1.37-1.37c-.4-.4-.92-.59-1.43-.59-.52 0-1.04.2-1.43.59L10.3 9.45l-7.72 7.72c-.78.78-.78 2.05 0 2.83L4 21.41c.39.39.9.59 1.41.59.51 0 1.02-.2 1.41-.59l7.78-7.78 2.81-2.81c.8-.78.8-2.07 0-2.86zM5.41 20L4 18.59l7.72-7.72 1.47 1.35L5.41 20z\"/>\n",
              "  </svg>\n",
              "      </button>\n",
              "      \n",
              "  <style>\n",
              "    .colab-df-container {\n",
              "      display:flex;\n",
              "      flex-wrap:wrap;\n",
              "      gap: 12px;\n",
              "    }\n",
              "\n",
              "    .colab-df-convert {\n",
              "      background-color: #E8F0FE;\n",
              "      border: none;\n",
              "      border-radius: 50%;\n",
              "      cursor: pointer;\n",
              "      display: none;\n",
              "      fill: #1967D2;\n",
              "      height: 32px;\n",
              "      padding: 0 0 0 0;\n",
              "      width: 32px;\n",
              "    }\n",
              "\n",
              "    .colab-df-convert:hover {\n",
              "      background-color: #E2EBFA;\n",
              "      box-shadow: 0px 1px 2px rgba(60, 64, 67, 0.3), 0px 1px 3px 1px rgba(60, 64, 67, 0.15);\n",
              "      fill: #174EA6;\n",
              "    }\n",
              "\n",
              "    [theme=dark] .colab-df-convert {\n",
              "      background-color: #3B4455;\n",
              "      fill: #D2E3FC;\n",
              "    }\n",
              "\n",
              "    [theme=dark] .colab-df-convert:hover {\n",
              "      background-color: #434B5C;\n",
              "      box-shadow: 0px 1px 3px 1px rgba(0, 0, 0, 0.15);\n",
              "      filter: drop-shadow(0px 1px 2px rgba(0, 0, 0, 0.3));\n",
              "      fill: #FFFFFF;\n",
              "    }\n",
              "  </style>\n",
              "\n",
              "      <script>\n",
              "        const buttonEl =\n",
              "          document.querySelector('#df-f779c9d3-8aaa-4c63-adcc-dc28dc42b544 button.colab-df-convert');\n",
              "        buttonEl.style.display =\n",
              "          google.colab.kernel.accessAllowed ? 'block' : 'none';\n",
              "\n",
              "        async function convertToInteractive(key) {\n",
              "          const element = document.querySelector('#df-f779c9d3-8aaa-4c63-adcc-dc28dc42b544');\n",
              "          const dataTable =\n",
              "            await google.colab.kernel.invokeFunction('convertToInteractive',\n",
              "                                                     [key], {});\n",
              "          if (!dataTable) return;\n",
              "\n",
              "          const docLinkHtml = 'Like what you see? Visit the ' +\n",
              "            '<a target=\"_blank\" href=https://colab.research.google.com/notebooks/data_table.ipynb>data table notebook</a>'\n",
              "            + ' to learn more about interactive tables.';\n",
              "          element.innerHTML = '';\n",
              "          dataTable['output_type'] = 'display_data';\n",
              "          await google.colab.output.renderOutput(dataTable, element);\n",
              "          const docLink = document.createElement('div');\n",
              "          docLink.innerHTML = docLinkHtml;\n",
              "          element.appendChild(docLink);\n",
              "        }\n",
              "      </script>\n",
              "    </div>\n",
              "  </div>\n",
              "  "
            ]
          },
          "metadata": {},
          "execution_count": 4
        }
      ],
      "source": [
        "df.tail()"
      ]
    },
    {
      "cell_type": "code",
      "execution_count": null,
      "metadata": {
        "colab": {
          "base_uri": "https://localhost:8080/"
        },
        "id": "5JYZg6uE7FZ6",
        "outputId": "1c700e80-af43-420c-fe32-a325c8293277"
      },
      "outputs": [
        {
          "output_type": "execute_result",
          "data": {
            "text/plain": [
              "Rwanda      8735\n",
              "Tanzania    6606\n",
              "Kenya       6068\n",
              "Uganda      2101\n",
              "Name: country, dtype: int64"
            ]
          },
          "metadata": {},
          "execution_count": 5
        }
      ],
      "source": [
        "#We can like check count of a column to see if our specific data for each country is there\n",
        "df['country'].value_counts()"
      ]
    },
    {
      "cell_type": "markdown",
      "metadata": {
        "id": "UrE9ZbaQZ7wN"
      },
      "source": [
        "We have four countries in our dataset which corresponds to our focus."
      ]
    },
    {
      "cell_type": "code",
      "execution_count": null,
      "metadata": {
        "colab": {
          "base_uri": "https://localhost:8080/"
        },
        "id": "ntGHJ_jX7WH3",
        "outputId": "faa84381-48c2-4e17-80f0-8c58760bace4"
      },
      "outputs": [
        {
          "output_type": "execute_result",
          "data": {
            "text/plain": [
              "2016    8734\n",
              "2018    8167\n",
              "2017    6620\n",
              "2029       1\n",
              "2056       1\n",
              "2039       1\n",
              "Name: year, dtype: int64"
            ]
          },
          "metadata": {},
          "execution_count": 6
        }
      ],
      "source": [
        "df['year'].value_counts()"
      ]
    },
    {
      "cell_type": "markdown",
      "metadata": {
        "id": "I5HrWaP17nX0"
      },
      "source": [
        "We see our data correspond with our objective focus.\n",
        "\n",
        "We are also able to see in year column some data that for '2029' '2056' and '2039' . we will clean this in the next step"
      ]
    },
    {
      "cell_type": "markdown",
      "metadata": {
        "id": "Majw1A-fWJVI"
      },
      "source": [
        "# **Data preparation and cleaning**"
      ]
    },
    {
      "cell_type": "markdown",
      "metadata": {
        "id": "EzuPRr5Xc-R6"
      },
      "source": [
        "1. Validity\n",
        "Here we will check on how accurate our data is and what's needed and what is irrelevant moving forward"
      ]
    },
    {
      "cell_type": "markdown",
      "metadata": {
        "id": "UDnkhRzsWWjV"
      },
      "source": [
        "We will start with droping unnecessary rows. our study scope is  2016 to 2018 so we don't need other years"
      ]
    },
    {
      "cell_type": "code",
      "execution_count": null,
      "metadata": {
        "colab": {
          "base_uri": "https://localhost:8080/"
        },
        "id": "iWcaWLzd8ace",
        "outputId": "cfb5bebd-a891-4ceb-e28a-6a19cab19f52"
      },
      "outputs": [
        {
          "output_type": "execute_result",
          "data": {
            "text/plain": [
              "2016    8734\n",
              "2018    8167\n",
              "2017    6620\n",
              "2029       1\n",
              "2056       1\n",
              "2039       1\n",
              "Name: year, dtype: int64"
            ]
          },
          "metadata": {},
          "execution_count": 7
        }
      ],
      "source": [
        "df['year'].value_counts()"
      ]
    },
    {
      "cell_type": "code",
      "execution_count": null,
      "metadata": {
        "id": "0w79PZV6dL0i"
      },
      "outputs": [],
      "source": [
        "#droping the specific rows\n",
        "df.drop(df[df['year']>2018].index, inplace = True)"
      ]
    },
    {
      "cell_type": "code",
      "execution_count": null,
      "metadata": {
        "colab": {
          "base_uri": "https://localhost:8080/"
        },
        "id": "AGdH7j1jevBq",
        "outputId": "ad22072d-2eb0-44f9-e0ee-b78bf6dec2a4"
      },
      "outputs": [
        {
          "output_type": "execute_result",
          "data": {
            "text/plain": [
              "(23521, 13)"
            ]
          },
          "metadata": {},
          "execution_count": 9
        }
      ],
      "source": [
        "df.shape"
      ]
    },
    {
      "cell_type": "code",
      "execution_count": null,
      "metadata": {
        "colab": {
          "base_uri": "https://localhost:8080/"
        },
        "id": "YAlgwn5BAu6V",
        "outputId": "f7ba6672-4a47-4bd0-cae2-98992a99eb8a"
      },
      "outputs": [
        {
          "output_type": "execute_result",
          "data": {
            "text/plain": [
              "2016    8734\n",
              "2018    8167\n",
              "2017    6620\n",
              "Name: year, dtype: int64"
            ]
          },
          "metadata": {},
          "execution_count": 10
        }
      ],
      "source": [
        "#Lets just confirm they are dropped\n",
        "df['year'].value_counts()"
      ]
    },
    {
      "cell_type": "markdown",
      "metadata": {
        "id": "Am7RHHZee7jk"
      },
      "source": [
        "We see the rows have been drop since now we have 23521 row instead of 23524 rows"
      ]
    },
    {
      "cell_type": "markdown",
      "metadata": {
        "id": "QRF0DTWW-f2m"
      },
      "source": [
        "2. Accuracy check. checking if we have the correct data types and information for our data"
      ]
    },
    {
      "cell_type": "code",
      "execution_count": null,
      "metadata": {
        "colab": {
          "base_uri": "https://localhost:8080/"
        },
        "id": "7RQI_JcX-rnn",
        "outputId": "cf5f5881-fce4-4401-9df0-a3c59c0123e1"
      },
      "outputs": [
        {
          "output_type": "execute_result",
          "data": {
            "text/plain": [
              "country                    object\n",
              "year                        int64\n",
              "uniqueid                   object\n",
              "Has a Bank account         object\n",
              "Type of Location           object\n",
              "Cell Phone Access          object\n",
              "household_size            float64\n",
              "Respondent Age            float64\n",
              "gender_of_respondent       object\n",
              "The relathip with head     object\n",
              "marital_status             object\n",
              "Level of Educuation        object\n",
              "Type of Job                object\n",
              "dtype: object"
            ]
          },
          "metadata": {},
          "execution_count": 11
        }
      ],
      "source": [
        "df.dtypes"
      ]
    },
    {
      "cell_type": "markdown",
      "metadata": {
        "id": "BJX-SQYJf66k"
      },
      "source": [
        "We can see our dataset is a mixture of numerical and categorical data."
      ]
    },
    {
      "cell_type": "code",
      "execution_count": null,
      "metadata": {
        "colab": {
          "base_uri": "https://localhost:8080/"
        },
        "id": "OxRx7POE-uuB",
        "outputId": "e16fb21f-acdf-4442-e18d-157f7365e9d3"
      },
      "outputs": [
        {
          "output_type": "stream",
          "name": "stdout",
          "text": [
            "<class 'pandas.core.frame.DataFrame'>\n",
            "Int64Index: 23521 entries, 0 to 23523\n",
            "Data columns (total 13 columns):\n",
            " #   Column                  Non-Null Count  Dtype  \n",
            "---  ------                  --------------  -----  \n",
            " 0   country                 23507 non-null  object \n",
            " 1   year                    23521 non-null  int64  \n",
            " 2   uniqueid                23521 non-null  object \n",
            " 3   Has a Bank account      23485 non-null  object \n",
            " 4   Type of Location        23506 non-null  object \n",
            " 5   Cell Phone Access       23510 non-null  object \n",
            " 6   household_size          23493 non-null  float64\n",
            " 7   Respondent Age          23487 non-null  float64\n",
            " 8   gender_of_respondent    23487 non-null  object \n",
            " 9   The relathip with head  23517 non-null  object \n",
            " 10  marital_status          23489 non-null  object \n",
            " 11  Level of Educuation     23492 non-null  object \n",
            " 12  Type of Job             23491 non-null  object \n",
            "dtypes: float64(2), int64(1), object(10)\n",
            "memory usage: 2.5+ MB\n"
          ]
        }
      ],
      "source": [
        "df.info()"
      ]
    },
    {
      "cell_type": "markdown",
      "metadata": {
        "id": "sQRF65jJdP_G"
      },
      "source": [
        "3. Completeness: \n",
        "We will check for how complete our data is and what action we need to take moving foward to help in the completeness of our data"
      ]
    },
    {
      "cell_type": "code",
      "execution_count": null,
      "metadata": {
        "colab": {
          "base_uri": "https://localhost:8080/"
        },
        "id": "NWK0IZjic6g5",
        "outputId": "fbfdb321-1221-447b-8bd9-08ea495e306d"
      },
      "outputs": [
        {
          "output_type": "execute_result",
          "data": {
            "text/plain": [
              "country                   14\n",
              "year                       0\n",
              "uniqueid                   0\n",
              "Has a Bank account        36\n",
              "Type of Location          15\n",
              "Cell Phone Access         11\n",
              "household_size            28\n",
              "Respondent Age            34\n",
              "gender_of_respondent      34\n",
              "The relathip with head     4\n",
              "marital_status            32\n",
              "Level of Educuation       29\n",
              "Type of Job               30\n",
              "dtype: int64"
            ]
          },
          "metadata": {},
          "execution_count": 13
        }
      ],
      "source": [
        "## We will check for null values\n",
        "df.isnull().sum()"
      ]
    },
    {
      "cell_type": "code",
      "execution_count": null,
      "metadata": {
        "id": "s0EDB9vsuO3E"
      },
      "outputs": [],
      "source": [
        "all_rows_any_na = df.dropna(axis=0)\n",
        "all_rows_all_na = df.dropna(axis=0, how=\"all\")\n",
        "df_thresh = df.dropna(thresh=2)"
      ]
    },
    {
      "cell_type": "code",
      "execution_count": null,
      "metadata": {
        "colab": {
          "base_uri": "https://localhost:8080/"
        },
        "id": "twWSGUpc_K3B",
        "outputId": "ddce4bd7-58eb-46da-e022-26df3486169f"
      },
      "outputs": [
        {
          "output_type": "execute_result",
          "data": {
            "text/plain": [
              "(23521, 13)"
            ]
          },
          "metadata": {},
          "execution_count": 15
        }
      ],
      "source": [
        "df.shape"
      ]
    },
    {
      "cell_type": "markdown",
      "metadata": {
        "id": "NAJQsAi7AjfG"
      },
      "source": [
        "As you can see the records are still the same meaning we have NAN instead of actual null values. We shall deal with them "
      ]
    },
    {
      "cell_type": "code",
      "source": [
        "#Before going any further, there are a couple of null values in the data that we need to clean up.\n",
        "df[df.isnull().any(axis=1)]"
      ],
      "metadata": {
        "colab": {
          "base_uri": "https://localhost:8080/",
          "height": 711
        },
        "id": "YxazhjIrJSa5",
        "outputId": "d0e40188-ede7-4f79-b9e5-302001a48263"
      },
      "execution_count": null,
      "outputs": [
        {
          "output_type": "execute_result",
          "data": {
            "text/plain": [
              "      country  year       uniqueid Has a Bank account Type of Location  \\\n",
              "436     Kenya  2018   uniqueid_437                 No            Rural   \n",
              "437     Kenya  2018   uniqueid_438                 No            Rural   \n",
              "438     Kenya  2018   uniqueid_439                Yes            Urban   \n",
              "439     Kenya  2018   uniqueid_440                 No            Rural   \n",
              "7281   Rwanda  2016  uniqueid_1214                 No            Rural   \n",
              "...       ...   ...            ...                ...              ...   \n",
              "23514  Uganda  2018  uniqueid_2107                 No            Urban   \n",
              "23515  Uganda  2018  uniqueid_2108                 No            Rural   \n",
              "23516  Uganda  2018  uniqueid_2109                 No            Urban   \n",
              "23517  Uganda  2018  uniqueid_2110                 No            Urban   \n",
              "23518  Uganda  2018  uniqueid_2111                 No            Rural   \n",
              "\n",
              "      Cell Phone Access  household_size  Respondent Age gender_of_respondent  \\\n",
              "436                 Yes             2.0             NaN                  NaN   \n",
              "437                 Yes             1.0             NaN                  NaN   \n",
              "438                 Yes             2.0             NaN                  NaN   \n",
              "439                 Yes            10.0             NaN                  NaN   \n",
              "7281                Yes             4.0             NaN                 Male   \n",
              "...                 ...             ...             ...                  ...   \n",
              "23514               Yes             NaN            24.0               Female   \n",
              "23515                No             NaN            16.0                 Male   \n",
              "23516               Yes             NaN            35.0                 Male   \n",
              "23517               Yes             NaN            16.0                 Male   \n",
              "23518               Yes             NaN            20.0               Female   \n",
              "\n",
              "      The relathip with head           marital_status Level of Educuation  \\\n",
              "436        Head of Household                  Widowed   Primary education   \n",
              "437        Head of Household  Married/Living together   Primary education   \n",
              "438        Head of Household  Married/Living together   Primary education   \n",
              "439                   Spouse  Married/Living together   Primary education   \n",
              "7281       Head of Household  Married/Living together   Primary education   \n",
              "...                      ...                      ...                 ...   \n",
              "23514                 Spouse  Married/Living together   Primary education   \n",
              "23515                 Parent     Single/Never Married   Primary education   \n",
              "23516      Head of Household  Married/Living together   Primary education   \n",
              "23517                 Parent     Single/Never Married   Primary education   \n",
              "23518                  Child     Single/Never Married   Primary education   \n",
              "\n",
              "                        Type of Job  \n",
              "436             Farming and Fishing  \n",
              "437             Farming and Fishing  \n",
              "438    Formally employed Government  \n",
              "439             Farming and Fishing  \n",
              "7281            Informally employed  \n",
              "...                             ...  \n",
              "23514                 Self employed  \n",
              "23515                  Other Income  \n",
              "23516                 Self employed  \n",
              "23517                  Other Income  \n",
              "23518                     No Income  \n",
              "\n",
              "[181 rows x 13 columns]"
            ],
            "text/html": [
              "\n",
              "  <div id=\"df-8e24d274-991f-4bf8-aba0-580775ca006f\">\n",
              "    <div class=\"colab-df-container\">\n",
              "      <div>\n",
              "<style scoped>\n",
              "    .dataframe tbody tr th:only-of-type {\n",
              "        vertical-align: middle;\n",
              "    }\n",
              "\n",
              "    .dataframe tbody tr th {\n",
              "        vertical-align: top;\n",
              "    }\n",
              "\n",
              "    .dataframe thead th {\n",
              "        text-align: right;\n",
              "    }\n",
              "</style>\n",
              "<table border=\"1\" class=\"dataframe\">\n",
              "  <thead>\n",
              "    <tr style=\"text-align: right;\">\n",
              "      <th></th>\n",
              "      <th>country</th>\n",
              "      <th>year</th>\n",
              "      <th>uniqueid</th>\n",
              "      <th>Has a Bank account</th>\n",
              "      <th>Type of Location</th>\n",
              "      <th>Cell Phone Access</th>\n",
              "      <th>household_size</th>\n",
              "      <th>Respondent Age</th>\n",
              "      <th>gender_of_respondent</th>\n",
              "      <th>The relathip with head</th>\n",
              "      <th>marital_status</th>\n",
              "      <th>Level of Educuation</th>\n",
              "      <th>Type of Job</th>\n",
              "    </tr>\n",
              "  </thead>\n",
              "  <tbody>\n",
              "    <tr>\n",
              "      <th>436</th>\n",
              "      <td>Kenya</td>\n",
              "      <td>2018</td>\n",
              "      <td>uniqueid_437</td>\n",
              "      <td>No</td>\n",
              "      <td>Rural</td>\n",
              "      <td>Yes</td>\n",
              "      <td>2.0</td>\n",
              "      <td>NaN</td>\n",
              "      <td>NaN</td>\n",
              "      <td>Head of Household</td>\n",
              "      <td>Widowed</td>\n",
              "      <td>Primary education</td>\n",
              "      <td>Farming and Fishing</td>\n",
              "    </tr>\n",
              "    <tr>\n",
              "      <th>437</th>\n",
              "      <td>Kenya</td>\n",
              "      <td>2018</td>\n",
              "      <td>uniqueid_438</td>\n",
              "      <td>No</td>\n",
              "      <td>Rural</td>\n",
              "      <td>Yes</td>\n",
              "      <td>1.0</td>\n",
              "      <td>NaN</td>\n",
              "      <td>NaN</td>\n",
              "      <td>Head of Household</td>\n",
              "      <td>Married/Living together</td>\n",
              "      <td>Primary education</td>\n",
              "      <td>Farming and Fishing</td>\n",
              "    </tr>\n",
              "    <tr>\n",
              "      <th>438</th>\n",
              "      <td>Kenya</td>\n",
              "      <td>2018</td>\n",
              "      <td>uniqueid_439</td>\n",
              "      <td>Yes</td>\n",
              "      <td>Urban</td>\n",
              "      <td>Yes</td>\n",
              "      <td>2.0</td>\n",
              "      <td>NaN</td>\n",
              "      <td>NaN</td>\n",
              "      <td>Head of Household</td>\n",
              "      <td>Married/Living together</td>\n",
              "      <td>Primary education</td>\n",
              "      <td>Formally employed Government</td>\n",
              "    </tr>\n",
              "    <tr>\n",
              "      <th>439</th>\n",
              "      <td>Kenya</td>\n",
              "      <td>2018</td>\n",
              "      <td>uniqueid_440</td>\n",
              "      <td>No</td>\n",
              "      <td>Rural</td>\n",
              "      <td>Yes</td>\n",
              "      <td>10.0</td>\n",
              "      <td>NaN</td>\n",
              "      <td>NaN</td>\n",
              "      <td>Spouse</td>\n",
              "      <td>Married/Living together</td>\n",
              "      <td>Primary education</td>\n",
              "      <td>Farming and Fishing</td>\n",
              "    </tr>\n",
              "    <tr>\n",
              "      <th>7281</th>\n",
              "      <td>Rwanda</td>\n",
              "      <td>2016</td>\n",
              "      <td>uniqueid_1214</td>\n",
              "      <td>No</td>\n",
              "      <td>Rural</td>\n",
              "      <td>Yes</td>\n",
              "      <td>4.0</td>\n",
              "      <td>NaN</td>\n",
              "      <td>Male</td>\n",
              "      <td>Head of Household</td>\n",
              "      <td>Married/Living together</td>\n",
              "      <td>Primary education</td>\n",
              "      <td>Informally employed</td>\n",
              "    </tr>\n",
              "    <tr>\n",
              "      <th>...</th>\n",
              "      <td>...</td>\n",
              "      <td>...</td>\n",
              "      <td>...</td>\n",
              "      <td>...</td>\n",
              "      <td>...</td>\n",
              "      <td>...</td>\n",
              "      <td>...</td>\n",
              "      <td>...</td>\n",
              "      <td>...</td>\n",
              "      <td>...</td>\n",
              "      <td>...</td>\n",
              "      <td>...</td>\n",
              "      <td>...</td>\n",
              "    </tr>\n",
              "    <tr>\n",
              "      <th>23514</th>\n",
              "      <td>Uganda</td>\n",
              "      <td>2018</td>\n",
              "      <td>uniqueid_2107</td>\n",
              "      <td>No</td>\n",
              "      <td>Urban</td>\n",
              "      <td>Yes</td>\n",
              "      <td>NaN</td>\n",
              "      <td>24.0</td>\n",
              "      <td>Female</td>\n",
              "      <td>Spouse</td>\n",
              "      <td>Married/Living together</td>\n",
              "      <td>Primary education</td>\n",
              "      <td>Self employed</td>\n",
              "    </tr>\n",
              "    <tr>\n",
              "      <th>23515</th>\n",
              "      <td>Uganda</td>\n",
              "      <td>2018</td>\n",
              "      <td>uniqueid_2108</td>\n",
              "      <td>No</td>\n",
              "      <td>Rural</td>\n",
              "      <td>No</td>\n",
              "      <td>NaN</td>\n",
              "      <td>16.0</td>\n",
              "      <td>Male</td>\n",
              "      <td>Parent</td>\n",
              "      <td>Single/Never Married</td>\n",
              "      <td>Primary education</td>\n",
              "      <td>Other Income</td>\n",
              "    </tr>\n",
              "    <tr>\n",
              "      <th>23516</th>\n",
              "      <td>Uganda</td>\n",
              "      <td>2018</td>\n",
              "      <td>uniqueid_2109</td>\n",
              "      <td>No</td>\n",
              "      <td>Urban</td>\n",
              "      <td>Yes</td>\n",
              "      <td>NaN</td>\n",
              "      <td>35.0</td>\n",
              "      <td>Male</td>\n",
              "      <td>Head of Household</td>\n",
              "      <td>Married/Living together</td>\n",
              "      <td>Primary education</td>\n",
              "      <td>Self employed</td>\n",
              "    </tr>\n",
              "    <tr>\n",
              "      <th>23517</th>\n",
              "      <td>Uganda</td>\n",
              "      <td>2018</td>\n",
              "      <td>uniqueid_2110</td>\n",
              "      <td>No</td>\n",
              "      <td>Urban</td>\n",
              "      <td>Yes</td>\n",
              "      <td>NaN</td>\n",
              "      <td>16.0</td>\n",
              "      <td>Male</td>\n",
              "      <td>Parent</td>\n",
              "      <td>Single/Never Married</td>\n",
              "      <td>Primary education</td>\n",
              "      <td>Other Income</td>\n",
              "    </tr>\n",
              "    <tr>\n",
              "      <th>23518</th>\n",
              "      <td>Uganda</td>\n",
              "      <td>2018</td>\n",
              "      <td>uniqueid_2111</td>\n",
              "      <td>No</td>\n",
              "      <td>Rural</td>\n",
              "      <td>Yes</td>\n",
              "      <td>NaN</td>\n",
              "      <td>20.0</td>\n",
              "      <td>Female</td>\n",
              "      <td>Child</td>\n",
              "      <td>Single/Never Married</td>\n",
              "      <td>Primary education</td>\n",
              "      <td>No Income</td>\n",
              "    </tr>\n",
              "  </tbody>\n",
              "</table>\n",
              "<p>181 rows × 13 columns</p>\n",
              "</div>\n",
              "      <button class=\"colab-df-convert\" onclick=\"convertToInteractive('df-8e24d274-991f-4bf8-aba0-580775ca006f')\"\n",
              "              title=\"Convert this dataframe to an interactive table.\"\n",
              "              style=\"display:none;\">\n",
              "        \n",
              "  <svg xmlns=\"http://www.w3.org/2000/svg\" height=\"24px\"viewBox=\"0 0 24 24\"\n",
              "       width=\"24px\">\n",
              "    <path d=\"M0 0h24v24H0V0z\" fill=\"none\"/>\n",
              "    <path d=\"M18.56 5.44l.94 2.06.94-2.06 2.06-.94-2.06-.94-.94-2.06-.94 2.06-2.06.94zm-11 1L8.5 8.5l.94-2.06 2.06-.94-2.06-.94L8.5 2.5l-.94 2.06-2.06.94zm10 10l.94 2.06.94-2.06 2.06-.94-2.06-.94-.94-2.06-.94 2.06-2.06.94z\"/><path d=\"M17.41 7.96l-1.37-1.37c-.4-.4-.92-.59-1.43-.59-.52 0-1.04.2-1.43.59L10.3 9.45l-7.72 7.72c-.78.78-.78 2.05 0 2.83L4 21.41c.39.39.9.59 1.41.59.51 0 1.02-.2 1.41-.59l7.78-7.78 2.81-2.81c.8-.78.8-2.07 0-2.86zM5.41 20L4 18.59l7.72-7.72 1.47 1.35L5.41 20z\"/>\n",
              "  </svg>\n",
              "      </button>\n",
              "      \n",
              "  <style>\n",
              "    .colab-df-container {\n",
              "      display:flex;\n",
              "      flex-wrap:wrap;\n",
              "      gap: 12px;\n",
              "    }\n",
              "\n",
              "    .colab-df-convert {\n",
              "      background-color: #E8F0FE;\n",
              "      border: none;\n",
              "      border-radius: 50%;\n",
              "      cursor: pointer;\n",
              "      display: none;\n",
              "      fill: #1967D2;\n",
              "      height: 32px;\n",
              "      padding: 0 0 0 0;\n",
              "      width: 32px;\n",
              "    }\n",
              "\n",
              "    .colab-df-convert:hover {\n",
              "      background-color: #E2EBFA;\n",
              "      box-shadow: 0px 1px 2px rgba(60, 64, 67, 0.3), 0px 1px 3px 1px rgba(60, 64, 67, 0.15);\n",
              "      fill: #174EA6;\n",
              "    }\n",
              "\n",
              "    [theme=dark] .colab-df-convert {\n",
              "      background-color: #3B4455;\n",
              "      fill: #D2E3FC;\n",
              "    }\n",
              "\n",
              "    [theme=dark] .colab-df-convert:hover {\n",
              "      background-color: #434B5C;\n",
              "      box-shadow: 0px 1px 3px 1px rgba(0, 0, 0, 0.15);\n",
              "      filter: drop-shadow(0px 1px 2px rgba(0, 0, 0, 0.3));\n",
              "      fill: #FFFFFF;\n",
              "    }\n",
              "  </style>\n",
              "\n",
              "      <script>\n",
              "        const buttonEl =\n",
              "          document.querySelector('#df-8e24d274-991f-4bf8-aba0-580775ca006f button.colab-df-convert');\n",
              "        buttonEl.style.display =\n",
              "          google.colab.kernel.accessAllowed ? 'block' : 'none';\n",
              "\n",
              "        async function convertToInteractive(key) {\n",
              "          const element = document.querySelector('#df-8e24d274-991f-4bf8-aba0-580775ca006f');\n",
              "          const dataTable =\n",
              "            await google.colab.kernel.invokeFunction('convertToInteractive',\n",
              "                                                     [key], {});\n",
              "          if (!dataTable) return;\n",
              "\n",
              "          const docLinkHtml = 'Like what you see? Visit the ' +\n",
              "            '<a target=\"_blank\" href=https://colab.research.google.com/notebooks/data_table.ipynb>data table notebook</a>'\n",
              "            + ' to learn more about interactive tables.';\n",
              "          element.innerHTML = '';\n",
              "          dataTable['output_type'] = 'display_data';\n",
              "          await google.colab.output.renderOutput(dataTable, element);\n",
              "          const docLink = document.createElement('div');\n",
              "          docLink.innerHTML = docLinkHtml;\n",
              "          element.appendChild(docLink);\n",
              "        }\n",
              "      </script>\n",
              "    </div>\n",
              "  </div>\n",
              "  "
            ]
          },
          "metadata": {},
          "execution_count": 16
        }
      ]
    },
    {
      "cell_type": "markdown",
      "source": [
        "We shall replace the NAN values as follows\n",
        "\n",
        "For numeric data will use mean and median; Choosing  mean for age, seems appropriate since the average age gives where most of the respondent lie. Choosing Median for Household size.\n",
        "\n",
        "For categorical data will use mode"
      ],
      "metadata": {
        "id": "tBP6pGCWsoL5"
      }
    },
    {
      "cell_type": "code",
      "source": [
        "#we will replace the NAN on age column with the mean age \n",
        "df['Respondent Age'].replace([np.nan], df['Respondent Age'].mean(), inplace=True)"
      ],
      "metadata": {
        "id": "COW4HVAZIMLq"
      },
      "execution_count": null,
      "outputs": []
    },
    {
      "cell_type": "code",
      "source": [
        "#We replace the NAN columns with categorical data types with mode\n",
        "df['gender_of_respondent'].replace([np.nan], df['gender_of_respondent'].mode(), inplace=True)"
      ],
      "metadata": {
        "id": "IGqlwl4Lro7I"
      },
      "execution_count": null,
      "outputs": []
    },
    {
      "cell_type": "code",
      "source": [
        "df['Level of Educuation'].replace([np.nan], df['Level of Educuation'].mode(), inplace=True)"
      ],
      "metadata": {
        "id": "P5com26yro0s"
      },
      "execution_count": null,
      "outputs": []
    },
    {
      "cell_type": "code",
      "source": [
        "df['Type of Job'].replace([np.nan], df['Type of Job'].mode(), inplace=True)"
      ],
      "metadata": {
        "id": "RDAXrpIJrow_"
      },
      "execution_count": null,
      "outputs": []
    },
    {
      "cell_type": "code",
      "source": [
        "df['marital_status'].replace([np.nan], df['marital_status'].mode(), inplace=True)"
      ],
      "metadata": {
        "id": "q6MRwB41r4w9"
      },
      "execution_count": null,
      "outputs": []
    },
    {
      "cell_type": "code",
      "source": [
        "df['Has a Bank account'].replace([np.nan], df['Has a Bank account'].mode(), inplace=True)"
      ],
      "metadata": {
        "id": "88G0k3nOr4tr"
      },
      "execution_count": null,
      "outputs": []
    },
    {
      "cell_type": "code",
      "source": [
        "df['Type of Location'].replace([np.nan], df['Type of Location'].mode(), inplace=True)"
      ],
      "metadata": {
        "id": "MSF1TTM_r4qT"
      },
      "execution_count": null,
      "outputs": []
    },
    {
      "cell_type": "code",
      "source": [
        "df['Cell Phone Access'].replace([np.nan], df['Cell Phone Access'].mode(), inplace=True)"
      ],
      "metadata": {
        "id": "g-jwIUs8rotw"
      },
      "execution_count": null,
      "outputs": []
    },
    {
      "cell_type": "code",
      "source": [
        "df['The relathip with head'].replace([np.nan], df['The relathip with head'].mode(), inplace=True)"
      ],
      "metadata": {
        "id": "Og7EGvpZroqn"
      },
      "execution_count": null,
      "outputs": []
    },
    {
      "cell_type": "code",
      "source": [
        "df['country'].replace([np.nan], df['country'].mode(), inplace=True)"
      ],
      "metadata": {
        "id": "0SqZAm_1romv"
      },
      "execution_count": null,
      "outputs": []
    },
    {
      "cell_type": "code",
      "source": [
        "#We replace the NAN on house hold size with the median\n",
        "df['household_size'].replace([np.nan], df['household_size'].median(), inplace=True)"
      ],
      "metadata": {
        "id": "AzqjFuNWroiz"
      },
      "execution_count": null,
      "outputs": []
    },
    {
      "cell_type": "code",
      "source": [
        "#Just to confirm we dont have the NAN any more\n",
        "df[df.isnull().any(axis=1)]\n"
      ],
      "metadata": {
        "colab": {
          "base_uri": "https://localhost:8080/",
          "height": 128
        },
        "id": "gjJIiTVpJBAo",
        "outputId": "0d5bf415-538b-48aa-a6fd-a0eff1bc2ee6"
      },
      "execution_count": null,
      "outputs": [
        {
          "output_type": "execute_result",
          "data": {
            "text/plain": [
              "Empty DataFrame\n",
              "Columns: [country, year, uniqueid, Has a Bank account, Type of Location, Cell Phone Access, household_size, Respondent Age, gender_of_respondent, The relathip with head, marital_status, Level of Educuation, Type of Job]\n",
              "Index: []"
            ],
            "text/html": [
              "\n",
              "  <div id=\"df-ef9396c7-07b6-4f80-b3bf-e4b7177970a9\">\n",
              "    <div class=\"colab-df-container\">\n",
              "      <div>\n",
              "<style scoped>\n",
              "    .dataframe tbody tr th:only-of-type {\n",
              "        vertical-align: middle;\n",
              "    }\n",
              "\n",
              "    .dataframe tbody tr th {\n",
              "        vertical-align: top;\n",
              "    }\n",
              "\n",
              "    .dataframe thead th {\n",
              "        text-align: right;\n",
              "    }\n",
              "</style>\n",
              "<table border=\"1\" class=\"dataframe\">\n",
              "  <thead>\n",
              "    <tr style=\"text-align: right;\">\n",
              "      <th></th>\n",
              "      <th>country</th>\n",
              "      <th>year</th>\n",
              "      <th>uniqueid</th>\n",
              "      <th>Has a Bank account</th>\n",
              "      <th>Type of Location</th>\n",
              "      <th>Cell Phone Access</th>\n",
              "      <th>household_size</th>\n",
              "      <th>Respondent Age</th>\n",
              "      <th>gender_of_respondent</th>\n",
              "      <th>The relathip with head</th>\n",
              "      <th>marital_status</th>\n",
              "      <th>Level of Educuation</th>\n",
              "      <th>Type of Job</th>\n",
              "    </tr>\n",
              "  </thead>\n",
              "  <tbody>\n",
              "  </tbody>\n",
              "</table>\n",
              "</div>\n",
              "      <button class=\"colab-df-convert\" onclick=\"convertToInteractive('df-ef9396c7-07b6-4f80-b3bf-e4b7177970a9')\"\n",
              "              title=\"Convert this dataframe to an interactive table.\"\n",
              "              style=\"display:none;\">\n",
              "        \n",
              "  <svg xmlns=\"http://www.w3.org/2000/svg\" height=\"24px\"viewBox=\"0 0 24 24\"\n",
              "       width=\"24px\">\n",
              "    <path d=\"M0 0h24v24H0V0z\" fill=\"none\"/>\n",
              "    <path d=\"M18.56 5.44l.94 2.06.94-2.06 2.06-.94-2.06-.94-.94-2.06-.94 2.06-2.06.94zm-11 1L8.5 8.5l.94-2.06 2.06-.94-2.06-.94L8.5 2.5l-.94 2.06-2.06.94zm10 10l.94 2.06.94-2.06 2.06-.94-2.06-.94-.94-2.06-.94 2.06-2.06.94z\"/><path d=\"M17.41 7.96l-1.37-1.37c-.4-.4-.92-.59-1.43-.59-.52 0-1.04.2-1.43.59L10.3 9.45l-7.72 7.72c-.78.78-.78 2.05 0 2.83L4 21.41c.39.39.9.59 1.41.59.51 0 1.02-.2 1.41-.59l7.78-7.78 2.81-2.81c.8-.78.8-2.07 0-2.86zM5.41 20L4 18.59l7.72-7.72 1.47 1.35L5.41 20z\"/>\n",
              "  </svg>\n",
              "      </button>\n",
              "      \n",
              "  <style>\n",
              "    .colab-df-container {\n",
              "      display:flex;\n",
              "      flex-wrap:wrap;\n",
              "      gap: 12px;\n",
              "    }\n",
              "\n",
              "    .colab-df-convert {\n",
              "      background-color: #E8F0FE;\n",
              "      border: none;\n",
              "      border-radius: 50%;\n",
              "      cursor: pointer;\n",
              "      display: none;\n",
              "      fill: #1967D2;\n",
              "      height: 32px;\n",
              "      padding: 0 0 0 0;\n",
              "      width: 32px;\n",
              "    }\n",
              "\n",
              "    .colab-df-convert:hover {\n",
              "      background-color: #E2EBFA;\n",
              "      box-shadow: 0px 1px 2px rgba(60, 64, 67, 0.3), 0px 1px 3px 1px rgba(60, 64, 67, 0.15);\n",
              "      fill: #174EA6;\n",
              "    }\n",
              "\n",
              "    [theme=dark] .colab-df-convert {\n",
              "      background-color: #3B4455;\n",
              "      fill: #D2E3FC;\n",
              "    }\n",
              "\n",
              "    [theme=dark] .colab-df-convert:hover {\n",
              "      background-color: #434B5C;\n",
              "      box-shadow: 0px 1px 3px 1px rgba(0, 0, 0, 0.15);\n",
              "      filter: drop-shadow(0px 1px 2px rgba(0, 0, 0, 0.3));\n",
              "      fill: #FFFFFF;\n",
              "    }\n",
              "  </style>\n",
              "\n",
              "      <script>\n",
              "        const buttonEl =\n",
              "          document.querySelector('#df-ef9396c7-07b6-4f80-b3bf-e4b7177970a9 button.colab-df-convert');\n",
              "        buttonEl.style.display =\n",
              "          google.colab.kernel.accessAllowed ? 'block' : 'none';\n",
              "\n",
              "        async function convertToInteractive(key) {\n",
              "          const element = document.querySelector('#df-ef9396c7-07b6-4f80-b3bf-e4b7177970a9');\n",
              "          const dataTable =\n",
              "            await google.colab.kernel.invokeFunction('convertToInteractive',\n",
              "                                                     [key], {});\n",
              "          if (!dataTable) return;\n",
              "\n",
              "          const docLinkHtml = 'Like what you see? Visit the ' +\n",
              "            '<a target=\"_blank\" href=https://colab.research.google.com/notebooks/data_table.ipynb>data table notebook</a>'\n",
              "            + ' to learn more about interactive tables.';\n",
              "          element.innerHTML = '';\n",
              "          dataTable['output_type'] = 'display_data';\n",
              "          await google.colab.output.renderOutput(dataTable, element);\n",
              "          const docLink = document.createElement('div');\n",
              "          docLink.innerHTML = docLinkHtml;\n",
              "          element.appendChild(docLink);\n",
              "        }\n",
              "      </script>\n",
              "    </div>\n",
              "  </div>\n",
              "  "
            ]
          },
          "metadata": {},
          "execution_count": 28
        }
      ]
    },
    {
      "cell_type": "code",
      "source": [
        "df.isnull().sum()"
      ],
      "metadata": {
        "colab": {
          "base_uri": "https://localhost:8080/"
        },
        "id": "q9KVMePcxT1L",
        "outputId": "7da77952-1f7d-4bf2-f525-2cc82f4eb56f"
      },
      "execution_count": null,
      "outputs": [
        {
          "output_type": "execute_result",
          "data": {
            "text/plain": [
              "country                   0\n",
              "year                      0\n",
              "uniqueid                  0\n",
              "Has a Bank account        0\n",
              "Type of Location          0\n",
              "Cell Phone Access         0\n",
              "household_size            0\n",
              "Respondent Age            0\n",
              "gender_of_respondent      0\n",
              "The relathip with head    0\n",
              "marital_status            0\n",
              "Level of Educuation       0\n",
              "Type of Job               0\n",
              "dtype: int64"
            ]
          },
          "metadata": {},
          "execution_count": 29
        }
      ]
    },
    {
      "cell_type": "markdown",
      "source": [
        "And now there are no NAN values"
      ],
      "metadata": {
        "id": "Mo-Y0xKlKFD5"
      }
    },
    {
      "cell_type": "markdown",
      "metadata": {
        "id": "dB3lpfJ4dzQx"
      },
      "source": [
        "4. Consistency : We will check for how complete our data is , if we have any duplicates or not"
      ]
    },
    {
      "cell_type": "code",
      "execution_count": null,
      "metadata": {
        "colab": {
          "base_uri": "https://localhost:8080/"
        },
        "id": "WPGMa_gGdllS",
        "outputId": "d2fec872-b0ab-4e6c-8fc4-19ccb19f6fb3"
      },
      "outputs": [
        {
          "output_type": "execute_result",
          "data": {
            "text/plain": [
              "0"
            ]
          },
          "metadata": {},
          "execution_count": 30
        }
      ],
      "source": [
        "#Check for duplicates\n",
        "df.duplicated().sum()"
      ]
    },
    {
      "cell_type": "markdown",
      "metadata": {
        "id": "9b-AwFTqBC3m"
      },
      "source": [
        "We have no duplicates"
      ]
    },
    {
      "cell_type": "code",
      "execution_count": null,
      "metadata": {
        "colab": {
          "base_uri": "https://localhost:8080/"
        },
        "id": "pYHOB9RTl0Ps",
        "outputId": "aca14919-0364-40e7-8b1f-791a9f446e59"
      },
      "outputs": [
        {
          "output_type": "execute_result",
          "data": {
            "text/plain": [
              "False"
            ]
          },
          "metadata": {},
          "execution_count": 31
        }
      ],
      "source": [
        "#The survey was only conducted on respondents above the age of 16 \n",
        "#so wenfirm that we dont have anyone below that age\n",
        "(df['Respondent Age'] < 16).any()"
      ]
    },
    {
      "cell_type": "markdown",
      "source": [
        "5. Uniformity - Standardization and renaming of columns"
      ],
      "metadata": {
        "id": "hiHhQtC42RD4"
      }
    },
    {
      "cell_type": "code",
      "source": [
        "#We will go and change the column naming\n",
        "df=df.rename(columns={'Type of Location':'Location','gender_of_respondent':'Gender','Respondent Age':'Age', 'The relathip with head':'Relation with HH', 'household_size':'HH size'})\n",
        "df.head()"
      ],
      "metadata": {
        "colab": {
          "base_uri": "https://localhost:8080/",
          "height": 354
        },
        "id": "u4KzEOwp2QKR",
        "outputId": "a31bad93-3233-4f7d-adde-c001026c8dbc"
      },
      "execution_count": null,
      "outputs": [
        {
          "output_type": "execute_result",
          "data": {
            "text/plain": [
              "  country  year    uniqueid Has a Bank account Location Cell Phone Access  \\\n",
              "0   Kenya  2018  uniqueid_1                Yes    Rural               Yes   \n",
              "1   Kenya  2018  uniqueid_2                 No    Rural                No   \n",
              "2   Kenya  2018  uniqueid_3                Yes    Urban               Yes   \n",
              "3   Kenya  2018  uniqueid_4                 No    Rural               Yes   \n",
              "4   Kenya  2018  uniqueid_5                 No    Urban                No   \n",
              "\n",
              "   HH size   Age  Gender   Relation with HH           marital_status  \\\n",
              "0      3.0  24.0  Female             Spouse  Married/Living together   \n",
              "1      5.0  70.0  Female  Head of Household                  Widowed   \n",
              "2      5.0  26.0    Male     Other relative     Single/Never Married   \n",
              "3      5.0  34.0  Female  Head of Household  Married/Living together   \n",
              "4      8.0  26.0    Male              Child     Single/Never Married   \n",
              "\n",
              "               Level of Educuation                Type of Job  \n",
              "0              Secondary education              Self employed  \n",
              "1              No formal education       Government Dependent  \n",
              "2  Vocational/Specialised training              Self employed  \n",
              "3                Primary education  Formally employed Private  \n",
              "4                Primary education        Informally employed  "
            ],
            "text/html": [
              "\n",
              "  <div id=\"df-e1b94840-b042-48ca-ad7f-c2503de14c84\">\n",
              "    <div class=\"colab-df-container\">\n",
              "      <div>\n",
              "<style scoped>\n",
              "    .dataframe tbody tr th:only-of-type {\n",
              "        vertical-align: middle;\n",
              "    }\n",
              "\n",
              "    .dataframe tbody tr th {\n",
              "        vertical-align: top;\n",
              "    }\n",
              "\n",
              "    .dataframe thead th {\n",
              "        text-align: right;\n",
              "    }\n",
              "</style>\n",
              "<table border=\"1\" class=\"dataframe\">\n",
              "  <thead>\n",
              "    <tr style=\"text-align: right;\">\n",
              "      <th></th>\n",
              "      <th>country</th>\n",
              "      <th>year</th>\n",
              "      <th>uniqueid</th>\n",
              "      <th>Has a Bank account</th>\n",
              "      <th>Location</th>\n",
              "      <th>Cell Phone Access</th>\n",
              "      <th>HH size</th>\n",
              "      <th>Age</th>\n",
              "      <th>Gender</th>\n",
              "      <th>Relation with HH</th>\n",
              "      <th>marital_status</th>\n",
              "      <th>Level of Educuation</th>\n",
              "      <th>Type of Job</th>\n",
              "    </tr>\n",
              "  </thead>\n",
              "  <tbody>\n",
              "    <tr>\n",
              "      <th>0</th>\n",
              "      <td>Kenya</td>\n",
              "      <td>2018</td>\n",
              "      <td>uniqueid_1</td>\n",
              "      <td>Yes</td>\n",
              "      <td>Rural</td>\n",
              "      <td>Yes</td>\n",
              "      <td>3.0</td>\n",
              "      <td>24.0</td>\n",
              "      <td>Female</td>\n",
              "      <td>Spouse</td>\n",
              "      <td>Married/Living together</td>\n",
              "      <td>Secondary education</td>\n",
              "      <td>Self employed</td>\n",
              "    </tr>\n",
              "    <tr>\n",
              "      <th>1</th>\n",
              "      <td>Kenya</td>\n",
              "      <td>2018</td>\n",
              "      <td>uniqueid_2</td>\n",
              "      <td>No</td>\n",
              "      <td>Rural</td>\n",
              "      <td>No</td>\n",
              "      <td>5.0</td>\n",
              "      <td>70.0</td>\n",
              "      <td>Female</td>\n",
              "      <td>Head of Household</td>\n",
              "      <td>Widowed</td>\n",
              "      <td>No formal education</td>\n",
              "      <td>Government Dependent</td>\n",
              "    </tr>\n",
              "    <tr>\n",
              "      <th>2</th>\n",
              "      <td>Kenya</td>\n",
              "      <td>2018</td>\n",
              "      <td>uniqueid_3</td>\n",
              "      <td>Yes</td>\n",
              "      <td>Urban</td>\n",
              "      <td>Yes</td>\n",
              "      <td>5.0</td>\n",
              "      <td>26.0</td>\n",
              "      <td>Male</td>\n",
              "      <td>Other relative</td>\n",
              "      <td>Single/Never Married</td>\n",
              "      <td>Vocational/Specialised training</td>\n",
              "      <td>Self employed</td>\n",
              "    </tr>\n",
              "    <tr>\n",
              "      <th>3</th>\n",
              "      <td>Kenya</td>\n",
              "      <td>2018</td>\n",
              "      <td>uniqueid_4</td>\n",
              "      <td>No</td>\n",
              "      <td>Rural</td>\n",
              "      <td>Yes</td>\n",
              "      <td>5.0</td>\n",
              "      <td>34.0</td>\n",
              "      <td>Female</td>\n",
              "      <td>Head of Household</td>\n",
              "      <td>Married/Living together</td>\n",
              "      <td>Primary education</td>\n",
              "      <td>Formally employed Private</td>\n",
              "    </tr>\n",
              "    <tr>\n",
              "      <th>4</th>\n",
              "      <td>Kenya</td>\n",
              "      <td>2018</td>\n",
              "      <td>uniqueid_5</td>\n",
              "      <td>No</td>\n",
              "      <td>Urban</td>\n",
              "      <td>No</td>\n",
              "      <td>8.0</td>\n",
              "      <td>26.0</td>\n",
              "      <td>Male</td>\n",
              "      <td>Child</td>\n",
              "      <td>Single/Never Married</td>\n",
              "      <td>Primary education</td>\n",
              "      <td>Informally employed</td>\n",
              "    </tr>\n",
              "  </tbody>\n",
              "</table>\n",
              "</div>\n",
              "      <button class=\"colab-df-convert\" onclick=\"convertToInteractive('df-e1b94840-b042-48ca-ad7f-c2503de14c84')\"\n",
              "              title=\"Convert this dataframe to an interactive table.\"\n",
              "              style=\"display:none;\">\n",
              "        \n",
              "  <svg xmlns=\"http://www.w3.org/2000/svg\" height=\"24px\"viewBox=\"0 0 24 24\"\n",
              "       width=\"24px\">\n",
              "    <path d=\"M0 0h24v24H0V0z\" fill=\"none\"/>\n",
              "    <path d=\"M18.56 5.44l.94 2.06.94-2.06 2.06-.94-2.06-.94-.94-2.06-.94 2.06-2.06.94zm-11 1L8.5 8.5l.94-2.06 2.06-.94-2.06-.94L8.5 2.5l-.94 2.06-2.06.94zm10 10l.94 2.06.94-2.06 2.06-.94-2.06-.94-.94-2.06-.94 2.06-2.06.94z\"/><path d=\"M17.41 7.96l-1.37-1.37c-.4-.4-.92-.59-1.43-.59-.52 0-1.04.2-1.43.59L10.3 9.45l-7.72 7.72c-.78.78-.78 2.05 0 2.83L4 21.41c.39.39.9.59 1.41.59.51 0 1.02-.2 1.41-.59l7.78-7.78 2.81-2.81c.8-.78.8-2.07 0-2.86zM5.41 20L4 18.59l7.72-7.72 1.47 1.35L5.41 20z\"/>\n",
              "  </svg>\n",
              "      </button>\n",
              "      \n",
              "  <style>\n",
              "    .colab-df-container {\n",
              "      display:flex;\n",
              "      flex-wrap:wrap;\n",
              "      gap: 12px;\n",
              "    }\n",
              "\n",
              "    .colab-df-convert {\n",
              "      background-color: #E8F0FE;\n",
              "      border: none;\n",
              "      border-radius: 50%;\n",
              "      cursor: pointer;\n",
              "      display: none;\n",
              "      fill: #1967D2;\n",
              "      height: 32px;\n",
              "      padding: 0 0 0 0;\n",
              "      width: 32px;\n",
              "    }\n",
              "\n",
              "    .colab-df-convert:hover {\n",
              "      background-color: #E2EBFA;\n",
              "      box-shadow: 0px 1px 2px rgba(60, 64, 67, 0.3), 0px 1px 3px 1px rgba(60, 64, 67, 0.15);\n",
              "      fill: #174EA6;\n",
              "    }\n",
              "\n",
              "    [theme=dark] .colab-df-convert {\n",
              "      background-color: #3B4455;\n",
              "      fill: #D2E3FC;\n",
              "    }\n",
              "\n",
              "    [theme=dark] .colab-df-convert:hover {\n",
              "      background-color: #434B5C;\n",
              "      box-shadow: 0px 1px 3px 1px rgba(0, 0, 0, 0.15);\n",
              "      filter: drop-shadow(0px 1px 2px rgba(0, 0, 0, 0.3));\n",
              "      fill: #FFFFFF;\n",
              "    }\n",
              "  </style>\n",
              "\n",
              "      <script>\n",
              "        const buttonEl =\n",
              "          document.querySelector('#df-e1b94840-b042-48ca-ad7f-c2503de14c84 button.colab-df-convert');\n",
              "        buttonEl.style.display =\n",
              "          google.colab.kernel.accessAllowed ? 'block' : 'none';\n",
              "\n",
              "        async function convertToInteractive(key) {\n",
              "          const element = document.querySelector('#df-e1b94840-b042-48ca-ad7f-c2503de14c84');\n",
              "          const dataTable =\n",
              "            await google.colab.kernel.invokeFunction('convertToInteractive',\n",
              "                                                     [key], {});\n",
              "          if (!dataTable) return;\n",
              "\n",
              "          const docLinkHtml = 'Like what you see? Visit the ' +\n",
              "            '<a target=\"_blank\" href=https://colab.research.google.com/notebooks/data_table.ipynb>data table notebook</a>'\n",
              "            + ' to learn more about interactive tables.';\n",
              "          element.innerHTML = '';\n",
              "          dataTable['output_type'] = 'display_data';\n",
              "          await google.colab.output.renderOutput(dataTable, element);\n",
              "          const docLink = document.createElement('div');\n",
              "          docLink.innerHTML = docLinkHtml;\n",
              "          element.appendChild(docLink);\n",
              "        }\n",
              "      </script>\n",
              "    </div>\n",
              "  </div>\n",
              "  "
            ]
          },
          "metadata": {},
          "execution_count": 32
        }
      ]
    },
    {
      "cell_type": "code",
      "source": [
        "# Let's replace the yes and no column with integers before performing any visualizations and view to see is the changes are in effect\n",
        "df['Has a Bank account'] = df['Has a Bank account'].apply(lambda x: 1 if x == 'Yes' else 0)\n",
        "df['Cell Phone Access'] = df['Cell Phone Access'].apply(lambda x: 1 if x == 'Yes' else 0)\n",
        "df.head(7)"
      ],
      "metadata": {
        "colab": {
          "base_uri": "https://localhost:8080/",
          "height": 452
        },
        "id": "G1Av4hwt3ulP",
        "outputId": "ab0d1a92-e1c6-4690-82bf-334bcd7aece7"
      },
      "execution_count": null,
      "outputs": [
        {
          "output_type": "execute_result",
          "data": {
            "text/plain": [
              "  country  year    uniqueid  Has a Bank account Location  Cell Phone Access  \\\n",
              "0   Kenya  2018  uniqueid_1                   1    Rural                  1   \n",
              "1   Kenya  2018  uniqueid_2                   0    Rural                  0   \n",
              "2   Kenya  2018  uniqueid_3                   1    Urban                  1   \n",
              "3   Kenya  2018  uniqueid_4                   0    Rural                  1   \n",
              "4   Kenya  2018  uniqueid_5                   0    Urban                  0   \n",
              "5   Kenya  2018  uniqueid_6                   0    Rural                  0   \n",
              "6   Kenya  2018  uniqueid_7                   0    Rural                  1   \n",
              "\n",
              "   HH size   Age  Gender   Relation with HH           marital_status  \\\n",
              "0      3.0  24.0  Female             Spouse  Married/Living together   \n",
              "1      5.0  70.0  Female  Head of Household                  Widowed   \n",
              "2      5.0  26.0    Male     Other relative     Single/Never Married   \n",
              "3      5.0  34.0  Female  Head of Household  Married/Living together   \n",
              "4      8.0  26.0    Male              Child     Single/Never Married   \n",
              "5      7.0  26.0  Female             Spouse  Married/Living together   \n",
              "6      7.0  32.0  Female             Spouse  Married/Living together   \n",
              "\n",
              "               Level of Educuation                Type of Job  \n",
              "0              Secondary education              Self employed  \n",
              "1              No formal education       Government Dependent  \n",
              "2  Vocational/Specialised training              Self employed  \n",
              "3                Primary education  Formally employed Private  \n",
              "4                Primary education        Informally employed  \n",
              "5                Primary education        Informally employed  \n",
              "6                Primary education              Self employed  "
            ],
            "text/html": [
              "\n",
              "  <div id=\"df-52946296-bfe5-4fc2-aa82-12c661ee517b\">\n",
              "    <div class=\"colab-df-container\">\n",
              "      <div>\n",
              "<style scoped>\n",
              "    .dataframe tbody tr th:only-of-type {\n",
              "        vertical-align: middle;\n",
              "    }\n",
              "\n",
              "    .dataframe tbody tr th {\n",
              "        vertical-align: top;\n",
              "    }\n",
              "\n",
              "    .dataframe thead th {\n",
              "        text-align: right;\n",
              "    }\n",
              "</style>\n",
              "<table border=\"1\" class=\"dataframe\">\n",
              "  <thead>\n",
              "    <tr style=\"text-align: right;\">\n",
              "      <th></th>\n",
              "      <th>country</th>\n",
              "      <th>year</th>\n",
              "      <th>uniqueid</th>\n",
              "      <th>Has a Bank account</th>\n",
              "      <th>Location</th>\n",
              "      <th>Cell Phone Access</th>\n",
              "      <th>HH size</th>\n",
              "      <th>Age</th>\n",
              "      <th>Gender</th>\n",
              "      <th>Relation with HH</th>\n",
              "      <th>marital_status</th>\n",
              "      <th>Level of Educuation</th>\n",
              "      <th>Type of Job</th>\n",
              "    </tr>\n",
              "  </thead>\n",
              "  <tbody>\n",
              "    <tr>\n",
              "      <th>0</th>\n",
              "      <td>Kenya</td>\n",
              "      <td>2018</td>\n",
              "      <td>uniqueid_1</td>\n",
              "      <td>1</td>\n",
              "      <td>Rural</td>\n",
              "      <td>1</td>\n",
              "      <td>3.0</td>\n",
              "      <td>24.0</td>\n",
              "      <td>Female</td>\n",
              "      <td>Spouse</td>\n",
              "      <td>Married/Living together</td>\n",
              "      <td>Secondary education</td>\n",
              "      <td>Self employed</td>\n",
              "    </tr>\n",
              "    <tr>\n",
              "      <th>1</th>\n",
              "      <td>Kenya</td>\n",
              "      <td>2018</td>\n",
              "      <td>uniqueid_2</td>\n",
              "      <td>0</td>\n",
              "      <td>Rural</td>\n",
              "      <td>0</td>\n",
              "      <td>5.0</td>\n",
              "      <td>70.0</td>\n",
              "      <td>Female</td>\n",
              "      <td>Head of Household</td>\n",
              "      <td>Widowed</td>\n",
              "      <td>No formal education</td>\n",
              "      <td>Government Dependent</td>\n",
              "    </tr>\n",
              "    <tr>\n",
              "      <th>2</th>\n",
              "      <td>Kenya</td>\n",
              "      <td>2018</td>\n",
              "      <td>uniqueid_3</td>\n",
              "      <td>1</td>\n",
              "      <td>Urban</td>\n",
              "      <td>1</td>\n",
              "      <td>5.0</td>\n",
              "      <td>26.0</td>\n",
              "      <td>Male</td>\n",
              "      <td>Other relative</td>\n",
              "      <td>Single/Never Married</td>\n",
              "      <td>Vocational/Specialised training</td>\n",
              "      <td>Self employed</td>\n",
              "    </tr>\n",
              "    <tr>\n",
              "      <th>3</th>\n",
              "      <td>Kenya</td>\n",
              "      <td>2018</td>\n",
              "      <td>uniqueid_4</td>\n",
              "      <td>0</td>\n",
              "      <td>Rural</td>\n",
              "      <td>1</td>\n",
              "      <td>5.0</td>\n",
              "      <td>34.0</td>\n",
              "      <td>Female</td>\n",
              "      <td>Head of Household</td>\n",
              "      <td>Married/Living together</td>\n",
              "      <td>Primary education</td>\n",
              "      <td>Formally employed Private</td>\n",
              "    </tr>\n",
              "    <tr>\n",
              "      <th>4</th>\n",
              "      <td>Kenya</td>\n",
              "      <td>2018</td>\n",
              "      <td>uniqueid_5</td>\n",
              "      <td>0</td>\n",
              "      <td>Urban</td>\n",
              "      <td>0</td>\n",
              "      <td>8.0</td>\n",
              "      <td>26.0</td>\n",
              "      <td>Male</td>\n",
              "      <td>Child</td>\n",
              "      <td>Single/Never Married</td>\n",
              "      <td>Primary education</td>\n",
              "      <td>Informally employed</td>\n",
              "    </tr>\n",
              "    <tr>\n",
              "      <th>5</th>\n",
              "      <td>Kenya</td>\n",
              "      <td>2018</td>\n",
              "      <td>uniqueid_6</td>\n",
              "      <td>0</td>\n",
              "      <td>Rural</td>\n",
              "      <td>0</td>\n",
              "      <td>7.0</td>\n",
              "      <td>26.0</td>\n",
              "      <td>Female</td>\n",
              "      <td>Spouse</td>\n",
              "      <td>Married/Living together</td>\n",
              "      <td>Primary education</td>\n",
              "      <td>Informally employed</td>\n",
              "    </tr>\n",
              "    <tr>\n",
              "      <th>6</th>\n",
              "      <td>Kenya</td>\n",
              "      <td>2018</td>\n",
              "      <td>uniqueid_7</td>\n",
              "      <td>0</td>\n",
              "      <td>Rural</td>\n",
              "      <td>1</td>\n",
              "      <td>7.0</td>\n",
              "      <td>32.0</td>\n",
              "      <td>Female</td>\n",
              "      <td>Spouse</td>\n",
              "      <td>Married/Living together</td>\n",
              "      <td>Primary education</td>\n",
              "      <td>Self employed</td>\n",
              "    </tr>\n",
              "  </tbody>\n",
              "</table>\n",
              "</div>\n",
              "      <button class=\"colab-df-convert\" onclick=\"convertToInteractive('df-52946296-bfe5-4fc2-aa82-12c661ee517b')\"\n",
              "              title=\"Convert this dataframe to an interactive table.\"\n",
              "              style=\"display:none;\">\n",
              "        \n",
              "  <svg xmlns=\"http://www.w3.org/2000/svg\" height=\"24px\"viewBox=\"0 0 24 24\"\n",
              "       width=\"24px\">\n",
              "    <path d=\"M0 0h24v24H0V0z\" fill=\"none\"/>\n",
              "    <path d=\"M18.56 5.44l.94 2.06.94-2.06 2.06-.94-2.06-.94-.94-2.06-.94 2.06-2.06.94zm-11 1L8.5 8.5l.94-2.06 2.06-.94-2.06-.94L8.5 2.5l-.94 2.06-2.06.94zm10 10l.94 2.06.94-2.06 2.06-.94-2.06-.94-.94-2.06-.94 2.06-2.06.94z\"/><path d=\"M17.41 7.96l-1.37-1.37c-.4-.4-.92-.59-1.43-.59-.52 0-1.04.2-1.43.59L10.3 9.45l-7.72 7.72c-.78.78-.78 2.05 0 2.83L4 21.41c.39.39.9.59 1.41.59.51 0 1.02-.2 1.41-.59l7.78-7.78 2.81-2.81c.8-.78.8-2.07 0-2.86zM5.41 20L4 18.59l7.72-7.72 1.47 1.35L5.41 20z\"/>\n",
              "  </svg>\n",
              "      </button>\n",
              "      \n",
              "  <style>\n",
              "    .colab-df-container {\n",
              "      display:flex;\n",
              "      flex-wrap:wrap;\n",
              "      gap: 12px;\n",
              "    }\n",
              "\n",
              "    .colab-df-convert {\n",
              "      background-color: #E8F0FE;\n",
              "      border: none;\n",
              "      border-radius: 50%;\n",
              "      cursor: pointer;\n",
              "      display: none;\n",
              "      fill: #1967D2;\n",
              "      height: 32px;\n",
              "      padding: 0 0 0 0;\n",
              "      width: 32px;\n",
              "    }\n",
              "\n",
              "    .colab-df-convert:hover {\n",
              "      background-color: #E2EBFA;\n",
              "      box-shadow: 0px 1px 2px rgba(60, 64, 67, 0.3), 0px 1px 3px 1px rgba(60, 64, 67, 0.15);\n",
              "      fill: #174EA6;\n",
              "    }\n",
              "\n",
              "    [theme=dark] .colab-df-convert {\n",
              "      background-color: #3B4455;\n",
              "      fill: #D2E3FC;\n",
              "    }\n",
              "\n",
              "    [theme=dark] .colab-df-convert:hover {\n",
              "      background-color: #434B5C;\n",
              "      box-shadow: 0px 1px 3px 1px rgba(0, 0, 0, 0.15);\n",
              "      filter: drop-shadow(0px 1px 2px rgba(0, 0, 0, 0.3));\n",
              "      fill: #FFFFFF;\n",
              "    }\n",
              "  </style>\n",
              "\n",
              "      <script>\n",
              "        const buttonEl =\n",
              "          document.querySelector('#df-52946296-bfe5-4fc2-aa82-12c661ee517b button.colab-df-convert');\n",
              "        buttonEl.style.display =\n",
              "          google.colab.kernel.accessAllowed ? 'block' : 'none';\n",
              "\n",
              "        async function convertToInteractive(key) {\n",
              "          const element = document.querySelector('#df-52946296-bfe5-4fc2-aa82-12c661ee517b');\n",
              "          const dataTable =\n",
              "            await google.colab.kernel.invokeFunction('convertToInteractive',\n",
              "                                                     [key], {});\n",
              "          if (!dataTable) return;\n",
              "\n",
              "          const docLinkHtml = 'Like what you see? Visit the ' +\n",
              "            '<a target=\"_blank\" href=https://colab.research.google.com/notebooks/data_table.ipynb>data table notebook</a>'\n",
              "            + ' to learn more about interactive tables.';\n",
              "          element.innerHTML = '';\n",
              "          dataTable['output_type'] = 'display_data';\n",
              "          await google.colab.output.renderOutput(dataTable, element);\n",
              "          const docLink = document.createElement('div');\n",
              "          docLink.innerHTML = docLinkHtml;\n",
              "          element.appendChild(docLink);\n",
              "        }\n",
              "      </script>\n",
              "    </div>\n",
              "  </div>\n",
              "  "
            ]
          },
          "metadata": {},
          "execution_count": 33
        }
      ]
    },
    {
      "cell_type": "code",
      "source": [
        "#Will also replace the other categorical data with code of 0 to 5\n",
        "categoricaldata = {'Location': {'Rural':0, \"Urban\":1},\n",
        "                   'country': {'Kenya': 1, 'Uganda':2, 'Tanzania':3, 'Rwanda':4},\n",
        "                   'Gender': {'Female':0, \"Male\":1},\n",
        "                   'Relation with HH' : {'Head of Household':0, 'Spouse':1, 'Child':2, 'Parent':3, 'Other relative':4, 'Other non-relatives':5},\n",
        "                   'marital_status': {'Married/Living together':0, 'Single/Never Married':1, 'Widowed':2,'Divorced/Seperated':3, 'Dont know':4},\n",
        "                   'Level of Educuation' : {'Primary education':0, 'No formal education':1, 'Secondary education':2,'Tertiary education':3,'Vocational/Specialised training':4,'6':5,'Other/Dont know/RTA':6},\n",
        "                   'Type of Job' : {'Self employed':0, 'Informally employed':1,'Farming and Fishing':2, 'Remittance Dependent':3, 'Other Income':4, 'Formally employed Private':5,'Government Dependent':6,'Dont Know/Refuse to answer':7,'No Income':8, 'Formally employed Government':9}\n",
        "                 }"
      ],
      "metadata": {
        "id": "WRq3UQB332s0"
      },
      "execution_count": null,
      "outputs": []
    },
    {
      "cell_type": "code",
      "source": [
        "df = df.replace(categoricaldata)\n",
        "df.head()"
      ],
      "metadata": {
        "colab": {
          "base_uri": "https://localhost:8080/",
          "height": 268
        },
        "id": "H_gM57oL32cz",
        "outputId": "ac4cd8a4-42bb-4fe2-b4eb-d617996e007f"
      },
      "execution_count": null,
      "outputs": [
        {
          "output_type": "execute_result",
          "data": {
            "text/plain": [
              "   country  year    uniqueid  Has a Bank account  Location  Cell Phone Access  \\\n",
              "0        1  2018  uniqueid_1                   1         0                  1   \n",
              "1        1  2018  uniqueid_2                   0         0                  0   \n",
              "2        1  2018  uniqueid_3                   1         1                  1   \n",
              "3        1  2018  uniqueid_4                   0         0                  1   \n",
              "4        1  2018  uniqueid_5                   0         1                  0   \n",
              "\n",
              "   HH size   Age  Gender  Relation with HH  marital_status  \\\n",
              "0      3.0  24.0       0                 1               0   \n",
              "1      5.0  70.0       0                 0               2   \n",
              "2      5.0  26.0       1                 4               1   \n",
              "3      5.0  34.0       0                 0               0   \n",
              "4      8.0  26.0       1                 2               1   \n",
              "\n",
              "   Level of Educuation  Type of Job  \n",
              "0                    2            0  \n",
              "1                    1            6  \n",
              "2                    4            0  \n",
              "3                    0            5  \n",
              "4                    0            1  "
            ],
            "text/html": [
              "\n",
              "  <div id=\"df-d85a99b0-ca2e-46f1-8681-9f83e42af742\">\n",
              "    <div class=\"colab-df-container\">\n",
              "      <div>\n",
              "<style scoped>\n",
              "    .dataframe tbody tr th:only-of-type {\n",
              "        vertical-align: middle;\n",
              "    }\n",
              "\n",
              "    .dataframe tbody tr th {\n",
              "        vertical-align: top;\n",
              "    }\n",
              "\n",
              "    .dataframe thead th {\n",
              "        text-align: right;\n",
              "    }\n",
              "</style>\n",
              "<table border=\"1\" class=\"dataframe\">\n",
              "  <thead>\n",
              "    <tr style=\"text-align: right;\">\n",
              "      <th></th>\n",
              "      <th>country</th>\n",
              "      <th>year</th>\n",
              "      <th>uniqueid</th>\n",
              "      <th>Has a Bank account</th>\n",
              "      <th>Location</th>\n",
              "      <th>Cell Phone Access</th>\n",
              "      <th>HH size</th>\n",
              "      <th>Age</th>\n",
              "      <th>Gender</th>\n",
              "      <th>Relation with HH</th>\n",
              "      <th>marital_status</th>\n",
              "      <th>Level of Educuation</th>\n",
              "      <th>Type of Job</th>\n",
              "    </tr>\n",
              "  </thead>\n",
              "  <tbody>\n",
              "    <tr>\n",
              "      <th>0</th>\n",
              "      <td>1</td>\n",
              "      <td>2018</td>\n",
              "      <td>uniqueid_1</td>\n",
              "      <td>1</td>\n",
              "      <td>0</td>\n",
              "      <td>1</td>\n",
              "      <td>3.0</td>\n",
              "      <td>24.0</td>\n",
              "      <td>0</td>\n",
              "      <td>1</td>\n",
              "      <td>0</td>\n",
              "      <td>2</td>\n",
              "      <td>0</td>\n",
              "    </tr>\n",
              "    <tr>\n",
              "      <th>1</th>\n",
              "      <td>1</td>\n",
              "      <td>2018</td>\n",
              "      <td>uniqueid_2</td>\n",
              "      <td>0</td>\n",
              "      <td>0</td>\n",
              "      <td>0</td>\n",
              "      <td>5.0</td>\n",
              "      <td>70.0</td>\n",
              "      <td>0</td>\n",
              "      <td>0</td>\n",
              "      <td>2</td>\n",
              "      <td>1</td>\n",
              "      <td>6</td>\n",
              "    </tr>\n",
              "    <tr>\n",
              "      <th>2</th>\n",
              "      <td>1</td>\n",
              "      <td>2018</td>\n",
              "      <td>uniqueid_3</td>\n",
              "      <td>1</td>\n",
              "      <td>1</td>\n",
              "      <td>1</td>\n",
              "      <td>5.0</td>\n",
              "      <td>26.0</td>\n",
              "      <td>1</td>\n",
              "      <td>4</td>\n",
              "      <td>1</td>\n",
              "      <td>4</td>\n",
              "      <td>0</td>\n",
              "    </tr>\n",
              "    <tr>\n",
              "      <th>3</th>\n",
              "      <td>1</td>\n",
              "      <td>2018</td>\n",
              "      <td>uniqueid_4</td>\n",
              "      <td>0</td>\n",
              "      <td>0</td>\n",
              "      <td>1</td>\n",
              "      <td>5.0</td>\n",
              "      <td>34.0</td>\n",
              "      <td>0</td>\n",
              "      <td>0</td>\n",
              "      <td>0</td>\n",
              "      <td>0</td>\n",
              "      <td>5</td>\n",
              "    </tr>\n",
              "    <tr>\n",
              "      <th>4</th>\n",
              "      <td>1</td>\n",
              "      <td>2018</td>\n",
              "      <td>uniqueid_5</td>\n",
              "      <td>0</td>\n",
              "      <td>1</td>\n",
              "      <td>0</td>\n",
              "      <td>8.0</td>\n",
              "      <td>26.0</td>\n",
              "      <td>1</td>\n",
              "      <td>2</td>\n",
              "      <td>1</td>\n",
              "      <td>0</td>\n",
              "      <td>1</td>\n",
              "    </tr>\n",
              "  </tbody>\n",
              "</table>\n",
              "</div>\n",
              "      <button class=\"colab-df-convert\" onclick=\"convertToInteractive('df-d85a99b0-ca2e-46f1-8681-9f83e42af742')\"\n",
              "              title=\"Convert this dataframe to an interactive table.\"\n",
              "              style=\"display:none;\">\n",
              "        \n",
              "  <svg xmlns=\"http://www.w3.org/2000/svg\" height=\"24px\"viewBox=\"0 0 24 24\"\n",
              "       width=\"24px\">\n",
              "    <path d=\"M0 0h24v24H0V0z\" fill=\"none\"/>\n",
              "    <path d=\"M18.56 5.44l.94 2.06.94-2.06 2.06-.94-2.06-.94-.94-2.06-.94 2.06-2.06.94zm-11 1L8.5 8.5l.94-2.06 2.06-.94-2.06-.94L8.5 2.5l-.94 2.06-2.06.94zm10 10l.94 2.06.94-2.06 2.06-.94-2.06-.94-.94-2.06-.94 2.06-2.06.94z\"/><path d=\"M17.41 7.96l-1.37-1.37c-.4-.4-.92-.59-1.43-.59-.52 0-1.04.2-1.43.59L10.3 9.45l-7.72 7.72c-.78.78-.78 2.05 0 2.83L4 21.41c.39.39.9.59 1.41.59.51 0 1.02-.2 1.41-.59l7.78-7.78 2.81-2.81c.8-.78.8-2.07 0-2.86zM5.41 20L4 18.59l7.72-7.72 1.47 1.35L5.41 20z\"/>\n",
              "  </svg>\n",
              "      </button>\n",
              "      \n",
              "  <style>\n",
              "    .colab-df-container {\n",
              "      display:flex;\n",
              "      flex-wrap:wrap;\n",
              "      gap: 12px;\n",
              "    }\n",
              "\n",
              "    .colab-df-convert {\n",
              "      background-color: #E8F0FE;\n",
              "      border: none;\n",
              "      border-radius: 50%;\n",
              "      cursor: pointer;\n",
              "      display: none;\n",
              "      fill: #1967D2;\n",
              "      height: 32px;\n",
              "      padding: 0 0 0 0;\n",
              "      width: 32px;\n",
              "    }\n",
              "\n",
              "    .colab-df-convert:hover {\n",
              "      background-color: #E2EBFA;\n",
              "      box-shadow: 0px 1px 2px rgba(60, 64, 67, 0.3), 0px 1px 3px 1px rgba(60, 64, 67, 0.15);\n",
              "      fill: #174EA6;\n",
              "    }\n",
              "\n",
              "    [theme=dark] .colab-df-convert {\n",
              "      background-color: #3B4455;\n",
              "      fill: #D2E3FC;\n",
              "    }\n",
              "\n",
              "    [theme=dark] .colab-df-convert:hover {\n",
              "      background-color: #434B5C;\n",
              "      box-shadow: 0px 1px 3px 1px rgba(0, 0, 0, 0.15);\n",
              "      filter: drop-shadow(0px 1px 2px rgba(0, 0, 0, 0.3));\n",
              "      fill: #FFFFFF;\n",
              "    }\n",
              "  </style>\n",
              "\n",
              "      <script>\n",
              "        const buttonEl =\n",
              "          document.querySelector('#df-d85a99b0-ca2e-46f1-8681-9f83e42af742 button.colab-df-convert');\n",
              "        buttonEl.style.display =\n",
              "          google.colab.kernel.accessAllowed ? 'block' : 'none';\n",
              "\n",
              "        async function convertToInteractive(key) {\n",
              "          const element = document.querySelector('#df-d85a99b0-ca2e-46f1-8681-9f83e42af742');\n",
              "          const dataTable =\n",
              "            await google.colab.kernel.invokeFunction('convertToInteractive',\n",
              "                                                     [key], {});\n",
              "          if (!dataTable) return;\n",
              "\n",
              "          const docLinkHtml = 'Like what you see? Visit the ' +\n",
              "            '<a target=\"_blank\" href=https://colab.research.google.com/notebooks/data_table.ipynb>data table notebook</a>'\n",
              "            + ' to learn more about interactive tables.';\n",
              "          element.innerHTML = '';\n",
              "          dataTable['output_type'] = 'display_data';\n",
              "          await google.colab.output.renderOutput(dataTable, element);\n",
              "          const docLink = document.createElement('div');\n",
              "          docLink.innerHTML = docLinkHtml;\n",
              "          element.appendChild(docLink);\n",
              "        }\n",
              "      </script>\n",
              "    </div>\n",
              "  </div>\n",
              "  "
            ]
          },
          "metadata": {},
          "execution_count": 35
        }
      ]
    },
    {
      "cell_type": "markdown",
      "source": [
        "We have now coded our categorical data into numerical codes for uniformity"
      ],
      "metadata": {
        "id": "oTEOz-jK5xGQ"
      }
    },
    {
      "cell_type": "markdown",
      "metadata": {
        "id": "7yDr1qdThbpe"
      },
      "source": [
        "## **Data Analysis**\n",
        "Now that we have cleaned our data we shall go ahead and start the analysis tailored to our objectives."
      ]
    },
    {
      "cell_type": "markdown",
      "metadata": {
        "id": "57WLQNcUBmUm"
      },
      "source": [
        "# **Univariate analysis**"
      ]
    },
    {
      "cell_type": "code",
      "execution_count": null,
      "metadata": {
        "colab": {
          "base_uri": "https://localhost:8080/"
        },
        "id": "m3oLwdFyiBhB",
        "outputId": "583935c5-24ac-483b-9176-1fda7624a7d1"
      },
      "outputs": [
        {
          "output_type": "execute_result",
          "data": {
            "text/plain": [
              "Index(['country', 'year', 'uniqueid', 'Has a Bank account', 'Location',\n",
              "       'Cell Phone Access', 'HH size', 'Age', 'Gender', 'Relation with HH',\n",
              "       'marital_status', 'Level of Educuation', 'Type of Job'],\n",
              "      dtype='object')"
            ]
          },
          "metadata": {},
          "execution_count": 36
        }
      ],
      "source": [
        "df.columns"
      ]
    },
    {
      "cell_type": "code",
      "execution_count": null,
      "metadata": {
        "colab": {
          "base_uri": "https://localhost:8080/",
          "height": 382
        },
        "id": "LCiqRvxql0hq",
        "outputId": "9630d287-b1ea-4cd1-8cde-ca112f5782cb"
      },
      "outputs": [
        {
          "output_type": "execute_result",
          "data": {
            "text/plain": [
              "            country          year  Has a Bank account      Location  \\\n",
              "count  23521.000000  23521.000000        23521.000000  23521.000000   \n",
              "mean       2.766804   2016.975894            0.140640      0.389822   \n",
              "std        1.199382      0.847348            0.347657      0.487720   \n",
              "min        1.000000   2016.000000            0.000000      0.000000   \n",
              "25%        1.000000   2016.000000            0.000000      0.000000   \n",
              "50%        3.000000   2017.000000            0.000000      0.000000   \n",
              "75%        4.000000   2018.000000            0.000000      1.000000   \n",
              "max        4.000000   2018.000000            1.000000      1.000000   \n",
              "\n",
              "       Cell Phone Access       HH size           Age        Gender  \\\n",
              "count       23521.000000  23521.000000  23521.000000  23521.000000   \n",
              "mean            0.742188      3.680923     38.805850      0.409379   \n",
              "std             0.437439      2.278787     16.508152      0.491730   \n",
              "min             0.000000      0.000000     16.000000      0.000000   \n",
              "25%             0.000000      2.000000     26.000000      0.000000   \n",
              "50%             1.000000      3.000000     35.000000      0.000000   \n",
              "75%             1.000000      5.000000     49.000000      1.000000   \n",
              "max             1.000000     21.000000    100.000000      1.000000   \n",
              "\n",
              "       Relation with HH  marital_status  Level of Educuation   Type of Job  \n",
              "count      23521.000000    23521.000000         23521.000000  23521.000000  \n",
              "mean           0.758939        0.834233             0.841971      1.890821  \n",
              "std            1.073038        0.949057             1.108747      2.021395  \n",
              "min            0.000000        0.000000             0.000000      0.000000  \n",
              "25%            0.000000        0.000000             0.000000      0.000000  \n",
              "50%            0.000000        1.000000             0.000000      1.000000  \n",
              "75%            1.000000        1.000000             2.000000      3.000000  \n",
              "max            5.000000        4.000000             6.000000      9.000000  "
            ],
            "text/html": [
              "\n",
              "  <div id=\"df-54d8497f-b322-4a83-81fe-a40e27424ec5\">\n",
              "    <div class=\"colab-df-container\">\n",
              "      <div>\n",
              "<style scoped>\n",
              "    .dataframe tbody tr th:only-of-type {\n",
              "        vertical-align: middle;\n",
              "    }\n",
              "\n",
              "    .dataframe tbody tr th {\n",
              "        vertical-align: top;\n",
              "    }\n",
              "\n",
              "    .dataframe thead th {\n",
              "        text-align: right;\n",
              "    }\n",
              "</style>\n",
              "<table border=\"1\" class=\"dataframe\">\n",
              "  <thead>\n",
              "    <tr style=\"text-align: right;\">\n",
              "      <th></th>\n",
              "      <th>country</th>\n",
              "      <th>year</th>\n",
              "      <th>Has a Bank account</th>\n",
              "      <th>Location</th>\n",
              "      <th>Cell Phone Access</th>\n",
              "      <th>HH size</th>\n",
              "      <th>Age</th>\n",
              "      <th>Gender</th>\n",
              "      <th>Relation with HH</th>\n",
              "      <th>marital_status</th>\n",
              "      <th>Level of Educuation</th>\n",
              "      <th>Type of Job</th>\n",
              "    </tr>\n",
              "  </thead>\n",
              "  <tbody>\n",
              "    <tr>\n",
              "      <th>count</th>\n",
              "      <td>23521.000000</td>\n",
              "      <td>23521.000000</td>\n",
              "      <td>23521.000000</td>\n",
              "      <td>23521.000000</td>\n",
              "      <td>23521.000000</td>\n",
              "      <td>23521.000000</td>\n",
              "      <td>23521.000000</td>\n",
              "      <td>23521.000000</td>\n",
              "      <td>23521.000000</td>\n",
              "      <td>23521.000000</td>\n",
              "      <td>23521.000000</td>\n",
              "      <td>23521.000000</td>\n",
              "    </tr>\n",
              "    <tr>\n",
              "      <th>mean</th>\n",
              "      <td>2.766804</td>\n",
              "      <td>2016.975894</td>\n",
              "      <td>0.140640</td>\n",
              "      <td>0.389822</td>\n",
              "      <td>0.742188</td>\n",
              "      <td>3.680923</td>\n",
              "      <td>38.805850</td>\n",
              "      <td>0.409379</td>\n",
              "      <td>0.758939</td>\n",
              "      <td>0.834233</td>\n",
              "      <td>0.841971</td>\n",
              "      <td>1.890821</td>\n",
              "    </tr>\n",
              "    <tr>\n",
              "      <th>std</th>\n",
              "      <td>1.199382</td>\n",
              "      <td>0.847348</td>\n",
              "      <td>0.347657</td>\n",
              "      <td>0.487720</td>\n",
              "      <td>0.437439</td>\n",
              "      <td>2.278787</td>\n",
              "      <td>16.508152</td>\n",
              "      <td>0.491730</td>\n",
              "      <td>1.073038</td>\n",
              "      <td>0.949057</td>\n",
              "      <td>1.108747</td>\n",
              "      <td>2.021395</td>\n",
              "    </tr>\n",
              "    <tr>\n",
              "      <th>min</th>\n",
              "      <td>1.000000</td>\n",
              "      <td>2016.000000</td>\n",
              "      <td>0.000000</td>\n",
              "      <td>0.000000</td>\n",
              "      <td>0.000000</td>\n",
              "      <td>0.000000</td>\n",
              "      <td>16.000000</td>\n",
              "      <td>0.000000</td>\n",
              "      <td>0.000000</td>\n",
              "      <td>0.000000</td>\n",
              "      <td>0.000000</td>\n",
              "      <td>0.000000</td>\n",
              "    </tr>\n",
              "    <tr>\n",
              "      <th>25%</th>\n",
              "      <td>1.000000</td>\n",
              "      <td>2016.000000</td>\n",
              "      <td>0.000000</td>\n",
              "      <td>0.000000</td>\n",
              "      <td>0.000000</td>\n",
              "      <td>2.000000</td>\n",
              "      <td>26.000000</td>\n",
              "      <td>0.000000</td>\n",
              "      <td>0.000000</td>\n",
              "      <td>0.000000</td>\n",
              "      <td>0.000000</td>\n",
              "      <td>0.000000</td>\n",
              "    </tr>\n",
              "    <tr>\n",
              "      <th>50%</th>\n",
              "      <td>3.000000</td>\n",
              "      <td>2017.000000</td>\n",
              "      <td>0.000000</td>\n",
              "      <td>0.000000</td>\n",
              "      <td>1.000000</td>\n",
              "      <td>3.000000</td>\n",
              "      <td>35.000000</td>\n",
              "      <td>0.000000</td>\n",
              "      <td>0.000000</td>\n",
              "      <td>1.000000</td>\n",
              "      <td>0.000000</td>\n",
              "      <td>1.000000</td>\n",
              "    </tr>\n",
              "    <tr>\n",
              "      <th>75%</th>\n",
              "      <td>4.000000</td>\n",
              "      <td>2018.000000</td>\n",
              "      <td>0.000000</td>\n",
              "      <td>1.000000</td>\n",
              "      <td>1.000000</td>\n",
              "      <td>5.000000</td>\n",
              "      <td>49.000000</td>\n",
              "      <td>1.000000</td>\n",
              "      <td>1.000000</td>\n",
              "      <td>1.000000</td>\n",
              "      <td>2.000000</td>\n",
              "      <td>3.000000</td>\n",
              "    </tr>\n",
              "    <tr>\n",
              "      <th>max</th>\n",
              "      <td>4.000000</td>\n",
              "      <td>2018.000000</td>\n",
              "      <td>1.000000</td>\n",
              "      <td>1.000000</td>\n",
              "      <td>1.000000</td>\n",
              "      <td>21.000000</td>\n",
              "      <td>100.000000</td>\n",
              "      <td>1.000000</td>\n",
              "      <td>5.000000</td>\n",
              "      <td>4.000000</td>\n",
              "      <td>6.000000</td>\n",
              "      <td>9.000000</td>\n",
              "    </tr>\n",
              "  </tbody>\n",
              "</table>\n",
              "</div>\n",
              "      <button class=\"colab-df-convert\" onclick=\"convertToInteractive('df-54d8497f-b322-4a83-81fe-a40e27424ec5')\"\n",
              "              title=\"Convert this dataframe to an interactive table.\"\n",
              "              style=\"display:none;\">\n",
              "        \n",
              "  <svg xmlns=\"http://www.w3.org/2000/svg\" height=\"24px\"viewBox=\"0 0 24 24\"\n",
              "       width=\"24px\">\n",
              "    <path d=\"M0 0h24v24H0V0z\" fill=\"none\"/>\n",
              "    <path d=\"M18.56 5.44l.94 2.06.94-2.06 2.06-.94-2.06-.94-.94-2.06-.94 2.06-2.06.94zm-11 1L8.5 8.5l.94-2.06 2.06-.94-2.06-.94L8.5 2.5l-.94 2.06-2.06.94zm10 10l.94 2.06.94-2.06 2.06-.94-2.06-.94-.94-2.06-.94 2.06-2.06.94z\"/><path d=\"M17.41 7.96l-1.37-1.37c-.4-.4-.92-.59-1.43-.59-.52 0-1.04.2-1.43.59L10.3 9.45l-7.72 7.72c-.78.78-.78 2.05 0 2.83L4 21.41c.39.39.9.59 1.41.59.51 0 1.02-.2 1.41-.59l7.78-7.78 2.81-2.81c.8-.78.8-2.07 0-2.86zM5.41 20L4 18.59l7.72-7.72 1.47 1.35L5.41 20z\"/>\n",
              "  </svg>\n",
              "      </button>\n",
              "      \n",
              "  <style>\n",
              "    .colab-df-container {\n",
              "      display:flex;\n",
              "      flex-wrap:wrap;\n",
              "      gap: 12px;\n",
              "    }\n",
              "\n",
              "    .colab-df-convert {\n",
              "      background-color: #E8F0FE;\n",
              "      border: none;\n",
              "      border-radius: 50%;\n",
              "      cursor: pointer;\n",
              "      display: none;\n",
              "      fill: #1967D2;\n",
              "      height: 32px;\n",
              "      padding: 0 0 0 0;\n",
              "      width: 32px;\n",
              "    }\n",
              "\n",
              "    .colab-df-convert:hover {\n",
              "      background-color: #E2EBFA;\n",
              "      box-shadow: 0px 1px 2px rgba(60, 64, 67, 0.3), 0px 1px 3px 1px rgba(60, 64, 67, 0.15);\n",
              "      fill: #174EA6;\n",
              "    }\n",
              "\n",
              "    [theme=dark] .colab-df-convert {\n",
              "      background-color: #3B4455;\n",
              "      fill: #D2E3FC;\n",
              "    }\n",
              "\n",
              "    [theme=dark] .colab-df-convert:hover {\n",
              "      background-color: #434B5C;\n",
              "      box-shadow: 0px 1px 3px 1px rgba(0, 0, 0, 0.15);\n",
              "      filter: drop-shadow(0px 1px 2px rgba(0, 0, 0, 0.3));\n",
              "      fill: #FFFFFF;\n",
              "    }\n",
              "  </style>\n",
              "\n",
              "      <script>\n",
              "        const buttonEl =\n",
              "          document.querySelector('#df-54d8497f-b322-4a83-81fe-a40e27424ec5 button.colab-df-convert');\n",
              "        buttonEl.style.display =\n",
              "          google.colab.kernel.accessAllowed ? 'block' : 'none';\n",
              "\n",
              "        async function convertToInteractive(key) {\n",
              "          const element = document.querySelector('#df-54d8497f-b322-4a83-81fe-a40e27424ec5');\n",
              "          const dataTable =\n",
              "            await google.colab.kernel.invokeFunction('convertToInteractive',\n",
              "                                                     [key], {});\n",
              "          if (!dataTable) return;\n",
              "\n",
              "          const docLinkHtml = 'Like what you see? Visit the ' +\n",
              "            '<a target=\"_blank\" href=https://colab.research.google.com/notebooks/data_table.ipynb>data table notebook</a>'\n",
              "            + ' to learn more about interactive tables.';\n",
              "          element.innerHTML = '';\n",
              "          dataTable['output_type'] = 'display_data';\n",
              "          await google.colab.output.renderOutput(dataTable, element);\n",
              "          const docLink = document.createElement('div');\n",
              "          docLink.innerHTML = docLinkHtml;\n",
              "          element.appendChild(docLink);\n",
              "        }\n",
              "      </script>\n",
              "    </div>\n",
              "  </div>\n",
              "  "
            ]
          },
          "metadata": {},
          "execution_count": 37
        }
      ],
      "source": [
        "#We check a summary statistics of our numeric variables\n",
        "df.describe()"
      ]
    },
    {
      "cell_type": "code",
      "execution_count": null,
      "metadata": {
        "colab": {
          "base_uri": "https://localhost:8080/",
          "height": 833
        },
        "id": "_fpU-CZHmXEO",
        "outputId": "7780fbe3-4061-425a-cd51-156008d03cc7"
      },
      "outputs": [
        {
          "output_type": "execute_result",
          "data": {
            "text/plain": [
              "array([[<matplotlib.axes._subplots.AxesSubplot object at 0x7f265647c410>,\n",
              "        <matplotlib.axes._subplots.AxesSubplot object at 0x7f2656453f50>,\n",
              "        <matplotlib.axes._subplots.AxesSubplot object at 0x7f2656416790>],\n",
              "       [<matplotlib.axes._subplots.AxesSubplot object at 0x7f26563d1e50>,\n",
              "        <matplotlib.axes._subplots.AxesSubplot object at 0x7f265637dad0>,\n",
              "        <matplotlib.axes._subplots.AxesSubplot object at 0x7f2656349610>],\n",
              "       [<matplotlib.axes._subplots.AxesSubplot object at 0x7f26563a8790>,\n",
              "        <matplotlib.axes._subplots.AxesSubplot object at 0x7f26562b5a10>,\n",
              "        <matplotlib.axes._subplots.AxesSubplot object at 0x7f26562b5a50>],\n",
              "       [<matplotlib.axes._subplots.AxesSubplot object at 0x7f2656277190>,\n",
              "        <matplotlib.axes._subplots.AxesSubplot object at 0x7f26561e6c90>,\n",
              "        <matplotlib.axes._subplots.AxesSubplot object at 0x7f26561a52d0>]],\n",
              "      dtype=object)"
            ]
          },
          "metadata": {},
          "execution_count": 38
        },
        {
          "output_type": "display_data",
          "data": {
            "text/plain": [
              "<Figure size 1440x720 with 12 Axes>"
            ],
            "image/png": "[encoded data removed]"
          },
          "metadata": {
            "needs_background": "light"
          }
        }
      ],
      "source": [
        "#Checking for outliers\n",
        "df.hist(bins = 30, figsize = (20,10), color = 'g')"
      ]
    },
    {
      "cell_type": "markdown",
      "source": [
        "Almost all our responses have outliers "
      ],
      "metadata": {
        "id": "DA-h1x386II4"
      }
    },
    {
      "cell_type": "code",
      "source": [
        "# Let's see how many people have bank accounts \n",
        "have_df        = df[df['Has a Bank account'] == 1]\n",
        "doesnt_df      = df[df['Has a Bank account'] == 0]"
      ],
      "metadata": {
        "id": "_8f7bwlVZt7L"
      },
      "execution_count": null,
      "outputs": []
    },
    {
      "cell_type": "code",
      "source": [
        "have_df.shape"
      ],
      "metadata": {
        "colab": {
          "base_uri": "https://localhost:8080/"
        },
        "id": "fxYYqgCyZu7O",
        "outputId": "23af1c78-2ae3-46ca-92b4-9155d5bad909"
      },
      "execution_count": null,
      "outputs": [
        {
          "output_type": "execute_result",
          "data": {
            "text/plain": [
              "(3308, 13)"
            ]
          },
          "metadata": {},
          "execution_count": 40
        }
      ]
    },
    {
      "cell_type": "code",
      "source": [
        "doesnt_df.shape"
      ],
      "metadata": {
        "colab": {
          "base_uri": "https://localhost:8080/"
        },
        "id": "1fD1ELTtZuw-",
        "outputId": "eb432593-77c2-47d2-ea1c-0f63576edeb8"
      },
      "execution_count": null,
      "outputs": [
        {
          "output_type": "execute_result",
          "data": {
            "text/plain": [
              "(20213, 13)"
            ]
          },
          "metadata": {},
          "execution_count": 41
        }
      ]
    },
    {
      "cell_type": "code",
      "source": [
        "# Count the number of people who have bank accounts and those who don't\n",
        "print(\"Total =\", len(df))\n",
        "\n",
        "print(\"Number of respondent who have bank account =\", len(have_df))\n",
        "print(\"Percentage of respondent who have bank account =\", 1.*len(have_df)/len(df)*100.0, \"%\")\n",
        " \n",
        "print(\"Number of  respondent who don't haave bank account =\", len(doesnt_df))\n",
        "print(\"Percentage of  respondent who don't have bank account =\", 1.*len(doesnt_df)/len(df)*100.0, \"%\")"
      ],
      "metadata": {
        "colab": {
          "base_uri": "https://localhost:8080/"
        },
        "id": "8pmb4oThaBUi",
        "outputId": "c3a9af38-f401-4aed-cbb5-e06887284e08"
      },
      "execution_count": null,
      "outputs": [
        {
          "output_type": "stream",
          "name": "stdout",
          "text": [
            "Total = 23521\n",
            "Number of respondent who have bank account = 3308\n",
            "Percentage of respondent who have bank account = 14.064027889970665 %\n",
            "Number of  respondent who don't haave bank account = 20213\n",
            "Percentage of  respondent who don't have bank account = 85.93597211002934 %\n"
          ]
        }
      ]
    },
    {
      "cell_type": "code",
      "source": [
        "#We can put the above into a visual\n",
        "yes =(df['Has a Bank account'] == 1).sum()\n",
        "no = (df['Has a Bank account'] == 0).sum()\n",
        "labels = 'yes','no'\n",
        "sizes = [yes,no]\n",
        "explode = (0, 0.1)\n",
        "plt.pie(sizes,explode=explode, labels=labels, autopct='%1.1f%%', shadow = True)\n",
        "\n",
        "plt.title(\"Number of bank account holders\")\n",
        "plt.show()"
      ],
      "metadata": {
        "colab": {
          "base_uri": "https://localhost:8080/",
          "height": 264
        },
        "id": "wilUHRvKSKAm",
        "outputId": "21e003a3-29cc-4846-cfd0-c37c11603fa5"
      },
      "execution_count": null,
      "outputs": [
        {
          "output_type": "display_data",
          "data": {
            "text/plain": [
              "<Figure size 432x288 with 1 Axes>"
            ],
            "image/png": "[encoded data removed]"
          },
          "metadata": {}
        }
      ]
    },
    {
      "cell_type": "markdown",
      "source": [
        "The percentage of respondent without bank account was 85.9% while that of those who had was 14.1%."
      ],
      "metadata": {
        "id": "mhJw1hcOUlSy"
      }
    },
    {
      "cell_type": "code",
      "execution_count": null,
      "metadata": {
        "colab": {
          "base_uri": "https://localhost:8080/",
          "height": 351
        },
        "id": "8H9tITfKbxEj",
        "outputId": "68ed0f88-cd43-413a-cae3-d91fc629b62d"
      },
      "outputs": [
        {
          "output_type": "stream",
          "name": "stderr",
          "text": [
            "/usr/local/lib/python3.7/dist-packages/seaborn/distributions.py:2619: FutureWarning: `distplot` is a deprecated function and will be removed in a future version. Please adapt your code to use either `displot` (a figure-level function with similar flexibility) or `histplot` (an axes-level function for histograms).\n",
            "  warnings.warn(msg, FutureWarning)\n"
          ]
        },
        {
          "output_type": "execute_result",
          "data": {
            "text/plain": [
              "<matplotlib.axes._subplots.AxesSubplot at 0x7f265567ced0>"
            ]
          },
          "metadata": {},
          "execution_count": 44
        },
        {
          "output_type": "display_data",
          "data": {
            "text/plain": [
              "<Figure size 432x288 with 1 Axes>"
            ],
            "image/png": "[encoded data removed]"
          },
          "metadata": {
            "needs_background": "light"
          }
        }
      ],
      "source": [
        "#A house hold distplot\n",
        "sns.distplot(df['HH size'],  kde=False,label='House Hold (HH) size')"
      ]
    },
    {
      "cell_type": "markdown",
      "metadata": {
        "id": "HEajj1sNiV7f"
      },
      "source": [
        "The household size for most households is between 1 and 5"
      ]
    },
    {
      "cell_type": "code",
      "execution_count": null,
      "metadata": {
        "colab": {
          "base_uri": "https://localhost:8080/",
          "height": 351
        },
        "id": "vFNYEfy9m6jF",
        "outputId": "1ac98789-9f2c-4e35-ef5d-88cd16ea0f22"
      },
      "outputs": [
        {
          "output_type": "stream",
          "name": "stderr",
          "text": [
            "/usr/local/lib/python3.7/dist-packages/seaborn/distributions.py:2619: FutureWarning: `distplot` is a deprecated function and will be removed in a future version. Please adapt your code to use either `displot` (a figure-level function with similar flexibility) or `histplot` (an axes-level function for histograms).\n",
            "  warnings.warn(msg, FutureWarning)\n"
          ]
        },
        {
          "output_type": "execute_result",
          "data": {
            "text/plain": [
              "<matplotlib.axes._subplots.AxesSubplot at 0x7f2655654650>"
            ]
          },
          "metadata": {},
          "execution_count": 45
        },
        {
          "output_type": "display_data",
          "data": {
            "text/plain": [
              "<Figure size 432x288 with 1 Axes>"
            ],
            "image/png": "[encoded data removed]"
          },
          "metadata": {
            "needs_background": "light"
          }
        }
      ],
      "source": [
        "#Age distplot\n",
        "sns.distplot(df['Age'],  kde=False,label='Age')"
      ]
    },
    {
      "cell_type": "markdown",
      "metadata": {
        "id": "py0w-fW6nHA7"
      },
      "source": [
        "Most of the sample population age bracket is 20 to 60 years"
      ]
    },
    {
      "cell_type": "code",
      "source": [
        "#Their variance\n",
        "df[['HH size','Age']].var()"
      ],
      "metadata": {
        "colab": {
          "base_uri": "https://localhost:8080/"
        },
        "id": "dE0zoXIeVXTD",
        "outputId": "4b2390ad-161f-478e-832f-927eb504fe5d"
      },
      "execution_count": null,
      "outputs": [
        {
          "output_type": "execute_result",
          "data": {
            "text/plain": [
              "HH size      5.192871\n",
              "Age        272.519076\n",
              "dtype: float64"
            ]
          },
          "metadata": {},
          "execution_count": 46
        }
      ]
    },
    {
      "cell_type": "markdown",
      "source": [
        "We see that Age has a big variance the age of respondent is widely spread.\n",
        "\n",
        "House holdsize has a small variance an indication of the sizes across the respondent to be close together"
      ],
      "metadata": {
        "id": "UtyEfHswVrWb"
      }
    },
    {
      "cell_type": "code",
      "source": [
        "# Let's do a skewness check\n",
        "df[['HH size','Age']].skew()"
      ],
      "metadata": {
        "colab": {
          "base_uri": "https://localhost:8080/"
        },
        "id": "A3dYCtLqWN-1",
        "outputId": "99622a08-3e5d-49fe-a707-43cb0743373c"
      },
      "execution_count": null,
      "outputs": [
        {
          "output_type": "execute_result",
          "data": {
            "text/plain": [
              "HH size    0.979190\n",
              "Age        0.842363\n",
              "dtype: float64"
            ]
          },
          "metadata": {},
          "execution_count": 47
        }
      ]
    },
    {
      "cell_type": "markdown",
      "source": [
        "Our numerical data has a positive skewness"
      ],
      "metadata": {
        "id": "fFraJfjiWisG"
      }
    },
    {
      "cell_type": "code",
      "source": [
        "#kurtosis check\n",
        "df[['HH size','Age']].kurt()\n"
      ],
      "metadata": {
        "colab": {
          "base_uri": "https://localhost:8080/"
        },
        "id": "u86H5JqAWQXI",
        "outputId": "d65af609-8007-497e-e1e1-2f69af81c5da"
      },
      "execution_count": null,
      "outputs": [
        {
          "output_type": "execute_result",
          "data": {
            "text/plain": [
              "HH size    1.163598\n",
              "Age        0.105420\n",
              "dtype: float64"
            ]
          },
          "metadata": {},
          "execution_count": 48
        }
      ]
    },
    {
      "cell_type": "markdown",
      "source": [
        "They have a Leptokurtic apperance which is an indication of presence of outliers"
      ],
      "metadata": {
        "id": "82bMrtO1W2_7"
      }
    },
    {
      "cell_type": "markdown",
      "metadata": {
        "id": "c9vH8YJYmJ66"
      },
      "source": [
        "### **Bivariate Analysis**"
      ]
    },
    {
      "cell_type": "code",
      "execution_count": null,
      "metadata": {
        "colab": {
          "base_uri": "https://localhost:8080/",
          "height": 295
        },
        "id": "jPO3vS4ChwJy",
        "outputId": "0f4e512d-b4a3-4b3e-d549-93982320334c"
      },
      "outputs": [
        {
          "output_type": "display_data",
          "data": {
            "text/plain": [
              "<Figure size 432x288 with 1 Axes>"
            ],
            "image/png": "[encoded data removed]"
          },
          "metadata": {
            "needs_background": "light"
          }
        }
      ],
      "source": [
        "#Let check for relationship between age and house hold size\n",
        "plt.scatter(df['Age'], df['HH size'])\n",
        "plt.title('Relationship between House hold size and age')\n",
        "plt.xlabel('Age')\n",
        "plt.ylabel('HH size')\n",
        "plt.show()"
      ]
    },
    {
      "cell_type": "markdown",
      "metadata": {
        "id": "3lR6RWIjoyy0"
      },
      "source": [
        "Most household sizes decrease with increase age bracket"
      ]
    },
    {
      "cell_type": "code",
      "source": [
        "#We use seaborn to see if there is a difference inthe above\n",
        "sns.scatterplot( x=\"Age\", y=\"HH size\", data=df)"
      ],
      "metadata": {
        "colab": {
          "base_uri": "https://localhost:8080/",
          "height": 296
        },
        "id": "r26jOCB5VVLP",
        "outputId": "34a39a73-2e84-4db7-b804-d46903bbf1fd"
      },
      "execution_count": null,
      "outputs": [
        {
          "output_type": "execute_result",
          "data": {
            "text/plain": [
              "<matplotlib.axes._subplots.AxesSubplot at 0x7f2655e00750>"
            ]
          },
          "metadata": {},
          "execution_count": 50
        },
        {
          "output_type": "display_data",
          "data": {
            "text/plain": [
              "<Figure size 432x288 with 1 Axes>"
            ],
            "image/png": "[encoded data removed]"
          },
          "metadata": {
            "needs_background": "light"
          }
        }
      ]
    },
    {
      "cell_type": "code",
      "source": [
        "#we compare those with bank account in country\n",
        "sns.histplot( x=\"country\", hue=\"Has a Bank account\", data=df, stat=\"count\", multiple=\"dodge\", shrink=1)"
      ],
      "metadata": {
        "colab": {
          "base_uri": "https://localhost:8080/",
          "height": 297
        },
        "id": "WCiXec8NUS8M",
        "outputId": "c4165fcf-d8d2-4cf6-8adb-68902f54a006"
      },
      "execution_count": null,
      "outputs": [
        {
          "output_type": "execute_result",
          "data": {
            "text/plain": [
              "<matplotlib.axes._subplots.AxesSubplot at 0x7f2655354c10>"
            ]
          },
          "metadata": {},
          "execution_count": 52
        },
        {
          "output_type": "display_data",
          "data": {
            "text/plain": [
              "<Figure size 432x288 with 1 Axes>"
            ],
            "image/png": "[encoded data removed]"
          },
          "metadata": {
            "needs_background": "light"
          }
        }
      ]
    },
    {
      "cell_type": "markdown",
      "source": [
        "There were more poeple in kenya with bank accounts compared to other east african countries. This is significant since Kenya's milestone towards mobile banking has been tremedous with the biggest champion being Safaricom inthe tech sector."
      ],
      "metadata": {
        "id": "nOWLMYXJUpn6"
      }
    },
    {
      "cell_type": "code",
      "source": [
        "#We compare countries using a stacked columns and the results as shown below are similar\n",
        "sns.histplot(data = df, hue='Has a Bank account', x='country')\n",
        "plt.title('Location')"
      ],
      "metadata": {
        "colab": {
          "base_uri": "https://localhost:8080/",
          "height": 312
        },
        "id": "qbNsb1GUhY2l",
        "outputId": "5026bf62-612f-4b29-f769-0f066f7751cd"
      },
      "execution_count": null,
      "outputs": [
        {
          "output_type": "execute_result",
          "data": {
            "text/plain": [
              "Text(0.5, 1.0, 'Location')"
            ]
          },
          "metadata": {},
          "execution_count": 54
        },
        {
          "output_type": "display_data",
          "data": {
            "text/plain": [
              "<Figure size 432x288 with 1 Axes>"
            ],
            "image/png": "[encoded data removed]"
          },
          "metadata": {
            "needs_background": "light"
          }
        }
      ]
    },
    {
      "cell_type": "markdown",
      "source": [
        "The graph shows most people in Kenya have bank account "
      ],
      "metadata": {
        "id": "in--30QfjYzr"
      }
    },
    {
      "cell_type": "code",
      "execution_count": null,
      "metadata": {
        "colab": {
          "base_uri": "https://localhost:8080/",
          "height": 312
        },
        "id": "hsQTA0LysPJt",
        "outputId": "71472392-cfcf-42dd-f6a3-8e3bce7e692d"
      },
      "outputs": [
        {
          "output_type": "execute_result",
          "data": {
            "text/plain": [
              "Text(0.5, 1.0, 'Number of respondents')"
            ]
          },
          "metadata": {},
          "execution_count": 55
        },
        {
          "output_type": "display_data",
          "data": {
            "text/plain": [
              "<Figure size 432x288 with 1 Axes>"
            ],
            "image/png": "[encoded data removed]"
          },
          "metadata": {
            "needs_background": "light"
          }
        }
      ],
      "source": [
        "sns.histplot(data = df, hue='Cell Phone Access', x='country')\n",
        "plt.title('Number of respondents')"
      ]
    },
    {
      "cell_type": "markdown",
      "metadata": {
        "id": "AVL5HLDGsn9B"
      },
      "source": [
        "There are less people with cellphone access in Tanzania followed by Uganda.\n",
        "\n",
        "Kenya and Rwanda respondents with cell phone access lie onthe upper side. This is possible since in east africa these two countries are the most evolving in their technology sector"
      ]
    },
    {
      "cell_type": "code",
      "execution_count": null,
      "metadata": {
        "colab": {
          "base_uri": "https://localhost:8080/",
          "height": 296
        },
        "id": "BSR8L0agsw16",
        "outputId": "a80b980a-c955-427a-ff2a-1c99bb9212c3"
      },
      "outputs": [
        {
          "output_type": "execute_result",
          "data": {
            "text/plain": [
              "<matplotlib.axes._subplots.AxesSubplot at 0x7f2654f61b90>"
            ]
          },
          "metadata": {},
          "execution_count": 57
        },
        {
          "output_type": "display_data",
          "data": {
            "text/plain": [
              "<Figure size 432x288 with 1 Axes>"
            ],
            "image/png": "[encoded data removed]"
          },
          "metadata": {
            "needs_background": "light"
          }
        }
      ],
      "source": [
        "sns.barplot(x=\"country\", y=\"HH size\", hue=\"Location\", data=df)"
      ]
    },
    {
      "cell_type": "markdown",
      "metadata": {
        "id": "6RMElb0czswA"
      },
      "source": [
        "The number of respondent living in rural vs urban area is almost similar across the countries. However there is spike for rural area in Kenya and Uganda"
      ]
    },
    {
      "cell_type": "code",
      "execution_count": null,
      "metadata": {
        "colab": {
          "base_uri": "https://localhost:8080/",
          "height": 702
        },
        "id": "WRCA6_zqvS9s",
        "outputId": "7489f35b-c7aa-449d-8238-9902276e8c14"
      },
      "outputs": [
        {
          "output_type": "execute_result",
          "data": {
            "text/plain": [
              "<matplotlib.axes._subplots.AxesSubplot at 0x7f2654e485d0>"
            ]
          },
          "metadata": {},
          "execution_count": 58
        },
        {
          "output_type": "display_data",
          "data": {
            "text/plain": [
              "<Figure size 720x720 with 2 Axes>"
            ],
            "image/png": "[encoded data removed]"
          },
          "metadata": {
            "needs_background": "light"
          }
        }
      ],
      "source": [
        "correlations = df.corr()\n",
        "f, ax = plt.subplots(figsize = (10, 10))\n",
        "sns.heatmap(correlations, annot = True)"
      ]
    },
    {
      "cell_type": "markdown",
      "metadata": {
        "id": "3-oz1c0Y0VFV"
      },
      "source": [
        "There  is a correlation between the cell phone access and has a bank account which is expected with the mobile banking era.\n",
        "\n",
        "The year also have some correlation with whether one has or doesn't have a bank account and also the location.\n",
        "\n",
        "Level of education has correlation with type of job and if one has a bank account or not"
      ]
    },
    {
      "cell_type": "markdown",
      "metadata": {
        "id": "5yjFiat20aaY"
      },
      "source": [
        "## **Multivariate Analysis**"
      ]
    },
    {
      "cell_type": "markdown",
      "source": [
        "**Data Reduction**\n",
        "\n",
        "Since data mining is a technique that is used to handle huge amounts of data. While working with a huge volume of data, analysis became harder in such cases. To get rid of this, we use the data reduction technique. It aims to increase storage efficiency and reduce data storage and analysis costs\n",
        "\n",
        "There are various ways to go about it and will cover them below to see if our dataset fits that method to help in our prediction objective"
      ],
      "metadata": {
        "id": "Bb3ykp3huEGx"
      }
    },
    {
      "cell_type": "markdown",
      "source": [
        "**1. Principal Component Analysis**"
      ],
      "metadata": {
        "id": "_pgKBLEzlnc-"
      }
    },
    {
      "cell_type": "code",
      "execution_count": null,
      "metadata": {
        "colab": {
          "base_uri": "https://localhost:8080/",
          "height": 205
        },
        "id": "90qKNCph0P2_",
        "outputId": "5628fc7a-fa43-47cf-acfb-ed3bcf136ca4"
      },
      "outputs": [
        {
          "output_type": "execute_result",
          "data": {
            "text/plain": [
              "   country  year    uniqueid  Has a Bank account  Location  Cell Phone Access  \\\n",
              "0        1  2018  uniqueid_1                   1         0                  1   \n",
              "1        1  2018  uniqueid_2                   0         0                  0   \n",
              "2        1  2018  uniqueid_3                   1         1                  1   \n",
              "\n",
              "   HH size   Age  Gender  Relation with HH  marital_status  \\\n",
              "0      3.0  24.0       0                 1               0   \n",
              "1      5.0  70.0       0                 0               2   \n",
              "2      5.0  26.0       1                 4               1   \n",
              "\n",
              "   Level of Educuation  Type of Job  \n",
              "0                    2            0  \n",
              "1                    1            6  \n",
              "2                    4            0  "
            ],
            "text/html": [
              "\n",
              "  <div id=\"df-f15a3b9e-af56-40b3-9d0c-6a50c14bb207\">\n",
              "    <div class=\"colab-df-container\">\n",
              "      <div>\n",
              "<style scoped>\n",
              "    .dataframe tbody tr th:only-of-type {\n",
              "        vertical-align: middle;\n",
              "    }\n",
              "\n",
              "    .dataframe tbody tr th {\n",
              "        vertical-align: top;\n",
              "    }\n",
              "\n",
              "    .dataframe thead th {\n",
              "        text-align: right;\n",
              "    }\n",
              "</style>\n",
              "<table border=\"1\" class=\"dataframe\">\n",
              "  <thead>\n",
              "    <tr style=\"text-align: right;\">\n",
              "      <th></th>\n",
              "      <th>country</th>\n",
              "      <th>year</th>\n",
              "      <th>uniqueid</th>\n",
              "      <th>Has a Bank account</th>\n",
              "      <th>Location</th>\n",
              "      <th>Cell Phone Access</th>\n",
              "      <th>HH size</th>\n",
              "      <th>Age</th>\n",
              "      <th>Gender</th>\n",
              "      <th>Relation with HH</th>\n",
              "      <th>marital_status</th>\n",
              "      <th>Level of Educuation</th>\n",
              "      <th>Type of Job</th>\n",
              "    </tr>\n",
              "  </thead>\n",
              "  <tbody>\n",
              "    <tr>\n",
              "      <th>0</th>\n",
              "      <td>1</td>\n",
              "      <td>2018</td>\n",
              "      <td>uniqueid_1</td>\n",
              "      <td>1</td>\n",
              "      <td>0</td>\n",
              "      <td>1</td>\n",
              "      <td>3.0</td>\n",
              "      <td>24.0</td>\n",
              "      <td>0</td>\n",
              "      <td>1</td>\n",
              "      <td>0</td>\n",
              "      <td>2</td>\n",
              "      <td>0</td>\n",
              "    </tr>\n",
              "    <tr>\n",
              "      <th>1</th>\n",
              "      <td>1</td>\n",
              "      <td>2018</td>\n",
              "      <td>uniqueid_2</td>\n",
              "      <td>0</td>\n",
              "      <td>0</td>\n",
              "      <td>0</td>\n",
              "      <td>5.0</td>\n",
              "      <td>70.0</td>\n",
              "      <td>0</td>\n",
              "      <td>0</td>\n",
              "      <td>2</td>\n",
              "      <td>1</td>\n",
              "      <td>6</td>\n",
              "    </tr>\n",
              "    <tr>\n",
              "      <th>2</th>\n",
              "      <td>1</td>\n",
              "      <td>2018</td>\n",
              "      <td>uniqueid_3</td>\n",
              "      <td>1</td>\n",
              "      <td>1</td>\n",
              "      <td>1</td>\n",
              "      <td>5.0</td>\n",
              "      <td>26.0</td>\n",
              "      <td>1</td>\n",
              "      <td>4</td>\n",
              "      <td>1</td>\n",
              "      <td>4</td>\n",
              "      <td>0</td>\n",
              "    </tr>\n",
              "  </tbody>\n",
              "</table>\n",
              "</div>\n",
              "      <button class=\"colab-df-convert\" onclick=\"convertToInteractive('df-f15a3b9e-af56-40b3-9d0c-6a50c14bb207')\"\n",
              "              title=\"Convert this dataframe to an interactive table.\"\n",
              "              style=\"display:none;\">\n",
              "        \n",
              "  <svg xmlns=\"http://www.w3.org/2000/svg\" height=\"24px\"viewBox=\"0 0 24 24\"\n",
              "       width=\"24px\">\n",
              "    <path d=\"M0 0h24v24H0V0z\" fill=\"none\"/>\n",
              "    <path d=\"M18.56 5.44l.94 2.06.94-2.06 2.06-.94-2.06-.94-.94-2.06-.94 2.06-2.06.94zm-11 1L8.5 8.5l.94-2.06 2.06-.94-2.06-.94L8.5 2.5l-.94 2.06-2.06.94zm10 10l.94 2.06.94-2.06 2.06-.94-2.06-.94-.94-2.06-.94 2.06-2.06.94z\"/><path d=\"M17.41 7.96l-1.37-1.37c-.4-.4-.92-.59-1.43-.59-.52 0-1.04.2-1.43.59L10.3 9.45l-7.72 7.72c-.78.78-.78 2.05 0 2.83L4 21.41c.39.39.9.59 1.41.59.51 0 1.02-.2 1.41-.59l7.78-7.78 2.81-2.81c.8-.78.8-2.07 0-2.86zM5.41 20L4 18.59l7.72-7.72 1.47 1.35L5.41 20z\"/>\n",
              "  </svg>\n",
              "      </button>\n",
              "      \n",
              "  <style>\n",
              "    .colab-df-container {\n",
              "      display:flex;\n",
              "      flex-wrap:wrap;\n",
              "      gap: 12px;\n",
              "    }\n",
              "\n",
              "    .colab-df-convert {\n",
              "      background-color: #E8F0FE;\n",
              "      border: none;\n",
              "      border-radius: 50%;\n",
              "      cursor: pointer;\n",
              "      display: none;\n",
              "      fill: #1967D2;\n",
              "      height: 32px;\n",
              "      padding: 0 0 0 0;\n",
              "      width: 32px;\n",
              "    }\n",
              "\n",
              "    .colab-df-convert:hover {\n",
              "      background-color: #E2EBFA;\n",
              "      box-shadow: 0px 1px 2px rgba(60, 64, 67, 0.3), 0px 1px 3px 1px rgba(60, 64, 67, 0.15);\n",
              "      fill: #174EA6;\n",
              "    }\n",
              "\n",
              "    [theme=dark] .colab-df-convert {\n",
              "      background-color: #3B4455;\n",
              "      fill: #D2E3FC;\n",
              "    }\n",
              "\n",
              "    [theme=dark] .colab-df-convert:hover {\n",
              "      background-color: #434B5C;\n",
              "      box-shadow: 0px 1px 3px 1px rgba(0, 0, 0, 0.15);\n",
              "      filter: drop-shadow(0px 1px 2px rgba(0, 0, 0, 0.3));\n",
              "      fill: #FFFFFF;\n",
              "    }\n",
              "  </style>\n",
              "\n",
              "      <script>\n",
              "        const buttonEl =\n",
              "          document.querySelector('#df-f15a3b9e-af56-40b3-9d0c-6a50c14bb207 button.colab-df-convert');\n",
              "        buttonEl.style.display =\n",
              "          google.colab.kernel.accessAllowed ? 'block' : 'none';\n",
              "\n",
              "        async function convertToInteractive(key) {\n",
              "          const element = document.querySelector('#df-f15a3b9e-af56-40b3-9d0c-6a50c14bb207');\n",
              "          const dataTable =\n",
              "            await google.colab.kernel.invokeFunction('convertToInteractive',\n",
              "                                                     [key], {});\n",
              "          if (!dataTable) return;\n",
              "\n",
              "          const docLinkHtml = 'Like what you see? Visit the ' +\n",
              "            '<a target=\"_blank\" href=https://colab.research.google.com/notebooks/data_table.ipynb>data table notebook</a>'\n",
              "            + ' to learn more about interactive tables.';\n",
              "          element.innerHTML = '';\n",
              "          dataTable['output_type'] = 'display_data';\n",
              "          await google.colab.output.renderOutput(dataTable, element);\n",
              "          const docLink = document.createElement('div');\n",
              "          docLink.innerHTML = docLinkHtml;\n",
              "          element.appendChild(docLink);\n",
              "        }\n",
              "      </script>\n",
              "    </div>\n",
              "  </div>\n",
              "  "
            ]
          },
          "metadata": {},
          "execution_count": 59
        }
      ],
      "source": [
        "# First we refresh our mind on our dataset\n",
        "df.head(3)\n"
      ]
    },
    {
      "cell_type": "code",
      "source": [
        "# Let's drop these columns as we move on as we don't need them for prediction\n",
        "df.drop(['uniqueid'], axis=1, inplace=True)\n",
        "df.head(4)"
      ],
      "metadata": {
        "colab": {
          "base_uri": "https://localhost:8080/",
          "height": 175
        },
        "id": "7br7nOALeTCO",
        "outputId": "5f25d9e1-1798-4953-d206-4ee85e7261c9"
      },
      "execution_count": null,
      "outputs": [
        {
          "output_type": "execute_result",
          "data": {
            "text/plain": [
              "   country  year  Has a Bank account  Location  Cell Phone Access  HH size  \\\n",
              "0        1  2018                   1         0                  1      3.0   \n",
              "1        1  2018                   0         0                  0      5.0   \n",
              "2        1  2018                   1         1                  1      5.0   \n",
              "3        1  2018                   0         0                  1      5.0   \n",
              "\n",
              "    Age  Gender  Relation with HH  marital_status  Level of Educuation  \\\n",
              "0  24.0       0                 1               0                    2   \n",
              "1  70.0       0                 0               2                    1   \n",
              "2  26.0       1                 4               1                    4   \n",
              "3  34.0       0                 0               0                    0   \n",
              "\n",
              "   Type of Job  \n",
              "0            0  \n",
              "1            6  \n",
              "2            0  \n",
              "3            5  "
            ],
            "text/html": [
              "\n",
              "  <div id=\"df-7d2ba1d8-175e-46f2-9e40-e44870461392\">\n",
              "    <div class=\"colab-df-container\">\n",
              "      <div>\n",
              "<style scoped>\n",
              "    .dataframe tbody tr th:only-of-type {\n",
              "        vertical-align: middle;\n",
              "    }\n",
              "\n",
              "    .dataframe tbody tr th {\n",
              "        vertical-align: top;\n",
              "    }\n",
              "\n",
              "    .dataframe thead th {\n",
              "        text-align: right;\n",
              "    }\n",
              "</style>\n",
              "<table border=\"1\" class=\"dataframe\">\n",
              "  <thead>\n",
              "    <tr style=\"text-align: right;\">\n",
              "      <th></th>\n",
              "      <th>country</th>\n",
              "      <th>year</th>\n",
              "      <th>Has a Bank account</th>\n",
              "      <th>Location</th>\n",
              "      <th>Cell Phone Access</th>\n",
              "      <th>HH size</th>\n",
              "      <th>Age</th>\n",
              "      <th>Gender</th>\n",
              "      <th>Relation with HH</th>\n",
              "      <th>marital_status</th>\n",
              "      <th>Level of Educuation</th>\n",
              "      <th>Type of Job</th>\n",
              "    </tr>\n",
              "  </thead>\n",
              "  <tbody>\n",
              "    <tr>\n",
              "      <th>0</th>\n",
              "      <td>1</td>\n",
              "      <td>2018</td>\n",
              "      <td>1</td>\n",
              "      <td>0</td>\n",
              "      <td>1</td>\n",
              "      <td>3.0</td>\n",
              "      <td>24.0</td>\n",
              "      <td>0</td>\n",
              "      <td>1</td>\n",
              "      <td>0</td>\n",
              "      <td>2</td>\n",
              "      <td>0</td>\n",
              "    </tr>\n",
              "    <tr>\n",
              "      <th>1</th>\n",
              "      <td>1</td>\n",
              "      <td>2018</td>\n",
              "      <td>0</td>\n",
              "      <td>0</td>\n",
              "      <td>0</td>\n",
              "      <td>5.0</td>\n",
              "      <td>70.0</td>\n",
              "      <td>0</td>\n",
              "      <td>0</td>\n",
              "      <td>2</td>\n",
              "      <td>1</td>\n",
              "      <td>6</td>\n",
              "    </tr>\n",
              "    <tr>\n",
              "      <th>2</th>\n",
              "      <td>1</td>\n",
              "      <td>2018</td>\n",
              "      <td>1</td>\n",
              "      <td>1</td>\n",
              "      <td>1</td>\n",
              "      <td>5.0</td>\n",
              "      <td>26.0</td>\n",
              "      <td>1</td>\n",
              "      <td>4</td>\n",
              "      <td>1</td>\n",
              "      <td>4</td>\n",
              "      <td>0</td>\n",
              "    </tr>\n",
              "    <tr>\n",
              "      <th>3</th>\n",
              "      <td>1</td>\n",
              "      <td>2018</td>\n",
              "      <td>0</td>\n",
              "      <td>0</td>\n",
              "      <td>1</td>\n",
              "      <td>5.0</td>\n",
              "      <td>34.0</td>\n",
              "      <td>0</td>\n",
              "      <td>0</td>\n",
              "      <td>0</td>\n",
              "      <td>0</td>\n",
              "      <td>5</td>\n",
              "    </tr>\n",
              "  </tbody>\n",
              "</table>\n",
              "</div>\n",
              "      <button class=\"colab-df-convert\" onclick=\"convertToInteractive('df-7d2ba1d8-175e-46f2-9e40-e44870461392')\"\n",
              "              title=\"Convert this dataframe to an interactive table.\"\n",
              "              style=\"display:none;\">\n",
              "        \n",
              "  <svg xmlns=\"http://www.w3.org/2000/svg\" height=\"24px\"viewBox=\"0 0 24 24\"\n",
              "       width=\"24px\">\n",
              "    <path d=\"M0 0h24v24H0V0z\" fill=\"none\"/>\n",
              "    <path d=\"M18.56 5.44l.94 2.06.94-2.06 2.06-.94-2.06-.94-.94-2.06-.94 2.06-2.06.94zm-11 1L8.5 8.5l.94-2.06 2.06-.94-2.06-.94L8.5 2.5l-.94 2.06-2.06.94zm10 10l.94 2.06.94-2.06 2.06-.94-2.06-.94-.94-2.06-.94 2.06-2.06.94z\"/><path d=\"M17.41 7.96l-1.37-1.37c-.4-.4-.92-.59-1.43-.59-.52 0-1.04.2-1.43.59L10.3 9.45l-7.72 7.72c-.78.78-.78 2.05 0 2.83L4 21.41c.39.39.9.59 1.41.59.51 0 1.02-.2 1.41-.59l7.78-7.78 2.81-2.81c.8-.78.8-2.07 0-2.86zM5.41 20L4 18.59l7.72-7.72 1.47 1.35L5.41 20z\"/>\n",
              "  </svg>\n",
              "      </button>\n",
              "      \n",
              "  <style>\n",
              "    .colab-df-container {\n",
              "      display:flex;\n",
              "      flex-wrap:wrap;\n",
              "      gap: 12px;\n",
              "    }\n",
              "\n",
              "    .colab-df-convert {\n",
              "      background-color: #E8F0FE;\n",
              "      border: none;\n",
              "      border-radius: 50%;\n",
              "      cursor: pointer;\n",
              "      display: none;\n",
              "      fill: #1967D2;\n",
              "      height: 32px;\n",
              "      padding: 0 0 0 0;\n",
              "      width: 32px;\n",
              "    }\n",
              "\n",
              "    .colab-df-convert:hover {\n",
              "      background-color: #E2EBFA;\n",
              "      box-shadow: 0px 1px 2px rgba(60, 64, 67, 0.3), 0px 1px 3px 1px rgba(60, 64, 67, 0.15);\n",
              "      fill: #174EA6;\n",
              "    }\n",
              "\n",
              "    [theme=dark] .colab-df-convert {\n",
              "      background-color: #3B4455;\n",
              "      fill: #D2E3FC;\n",
              "    }\n",
              "\n",
              "    [theme=dark] .colab-df-convert:hover {\n",
              "      background-color: #434B5C;\n",
              "      box-shadow: 0px 1px 3px 1px rgba(0, 0, 0, 0.15);\n",
              "      filter: drop-shadow(0px 1px 2px rgba(0, 0, 0, 0.3));\n",
              "      fill: #FFFFFF;\n",
              "    }\n",
              "  </style>\n",
              "\n",
              "      <script>\n",
              "        const buttonEl =\n",
              "          document.querySelector('#df-7d2ba1d8-175e-46f2-9e40-e44870461392 button.colab-df-convert');\n",
              "        buttonEl.style.display =\n",
              "          google.colab.kernel.accessAllowed ? 'block' : 'none';\n",
              "\n",
              "        async function convertToInteractive(key) {\n",
              "          const element = document.querySelector('#df-7d2ba1d8-175e-46f2-9e40-e44870461392');\n",
              "          const dataTable =\n",
              "            await google.colab.kernel.invokeFunction('convertToInteractive',\n",
              "                                                     [key], {});\n",
              "          if (!dataTable) return;\n",
              "\n",
              "          const docLinkHtml = 'Like what you see? Visit the ' +\n",
              "            '<a target=\"_blank\" href=https://colab.research.google.com/notebooks/data_table.ipynb>data table notebook</a>'\n",
              "            + ' to learn more about interactive tables.';\n",
              "          element.innerHTML = '';\n",
              "          dataTable['output_type'] = 'display_data';\n",
              "          await google.colab.output.renderOutput(dataTable, element);\n",
              "          const docLink = document.createElement('div');\n",
              "          docLink.innerHTML = docLinkHtml;\n",
              "          element.appendChild(docLink);\n",
              "        }\n",
              "      </script>\n",
              "    </div>\n",
              "  </div>\n",
              "  "
            ]
          },
          "metadata": {},
          "execution_count": 60
        }
      ]
    },
    {
      "cell_type": "code",
      "source": [
        "#First we perform Preprocessing\n",
        "X = df.drop('Has a Bank account', 1)\n",
        "y = df['Has a Bank account']"
      ],
      "metadata": {
        "colab": {
          "base_uri": "https://localhost:8080/"
        },
        "id": "0bJgA7IuhwJ4",
        "outputId": "5f079250-cc81-406e-bb8c-c0c4382fef16"
      },
      "execution_count": null,
      "outputs": [
        {
          "output_type": "stream",
          "name": "stderr",
          "text": [
            "/usr/local/lib/python3.7/dist-packages/ipykernel_launcher.py:2: FutureWarning: In a future version of pandas all arguments of DataFrame.drop except for the argument 'labels' will be keyword-only\n",
            "  \n"
          ]
        }
      ]
    },
    {
      "cell_type": "code",
      "source": [
        "# Second we Split the dataset into the Training set and Test set\n",
        "\n",
        "from sklearn.model_selection import train_test_split\n",
        "X_train, X_test, y_train, y_test = train_test_split(X, y, test_size = 0.25, random_state=0)"
      ],
      "metadata": {
        "id": "YdIe5Cu6sxDu"
      },
      "execution_count": null,
      "outputs": []
    },
    {
      "cell_type": "code",
      "source": [
        "# We then do Normalization\n",
        " \n",
        "from sklearn.preprocessing import StandardScaler\n",
        "\n",
        "sc = StandardScaler()\n",
        "X_train = sc.fit_transform(X_train)\n",
        "X_test = sc.transform(X_test)"
      ],
      "metadata": {
        "id": "ao7g_Y4DmkSN"
      },
      "execution_count": null,
      "outputs": []
    },
    {
      "cell_type": "code",
      "source": [
        "#We Apply PCA\n",
        "\n",
        "from sklearn.decomposition import PCA\n",
        "\n",
        "pca = PCA()\n",
        "X_train = pca.fit_transform(X_train)\n",
        "X_test = pca.transform(X_test)"
      ],
      "metadata": {
        "id": "-4PGitdumkOa"
      },
      "execution_count": null,
      "outputs": []
    },
    {
      "cell_type": "code",
      "source": [
        "# Explained Variance Ratio\n",
        "# The PCA class contains explained_variance_ratio_ which returns the variance caused by each of the principal components. \n",
        "# We execute the following line of code to find the \"explained variance ratio\".\n",
        "# \n",
        "explained_variance = pca.explained_variance_ratio_\n",
        "\n",
        "explained_variance"
      ],
      "metadata": {
        "colab": {
          "base_uri": "https://localhost:8080/"
        },
        "id": "zhYDeIFOmkB2",
        "outputId": "0f77854d-6d18-41cf-da2f-edd2a2e19dd1"
      },
      "execution_count": null,
      "outputs": [
        {
          "output_type": "execute_result",
          "data": {
            "text/plain": [
              "array([0.19450548, 0.15114293, 0.13504711, 0.1062171 , 0.10019039,\n",
              "       0.07840868, 0.07241779, 0.06368588, 0.05602556, 0.03958641,\n",
              "       0.00277267])"
            ]
          },
          "metadata": {},
          "execution_count": 65
        }
      ]
    },
    {
      "cell_type": "code",
      "source": [
        "# Training and Making Predictions using Logistic regression\n",
        "# In this case we'll use random forest classification for making the predictions.\n",
        "from sklearn.linear_model import LogisticRegression\n",
        "from sklearn.metrics import accuracy_score\n",
        "\n",
        "model = LogisticRegression()\n",
        "model.fit(X_train, y_train)\n",
        "\n",
        "y_pred = model.predict(X_test)"
      ],
      "metadata": {
        "id": "spK2P5cfAbZx"
      },
      "execution_count": null,
      "outputs": []
    },
    {
      "cell_type": "code",
      "source": [
        "y_pred"
      ],
      "metadata": {
        "colab": {
          "base_uri": "https://localhost:8080/"
        },
        "id": "fnfKMAdYnXZa",
        "outputId": "a879785a-a6d3-47be-9c16-7884b4e462bf"
      },
      "execution_count": null,
      "outputs": [
        {
          "output_type": "execute_result",
          "data": {
            "text/plain": [
              "array([0, 0, 0, ..., 0, 0, 0])"
            ]
          },
          "metadata": {},
          "execution_count": 67
        }
      ]
    },
    {
      "cell_type": "code",
      "source": [
        "from sklearn.metrics import confusion_matrix, classification_report\n",
        "\n",
        "print(\"Accuracy {} %\".format( 100 * accuracy_score(y_pred, y_test)))"
      ],
      "metadata": {
        "colab": {
          "base_uri": "https://localhost:8080/"
        },
        "id": "Ypd6HsUHnZdP",
        "outputId": "c95eef3a-dcc0-418a-f246-13a0519b517b"
      },
      "execution_count": null,
      "outputs": [
        {
          "output_type": "stream",
          "name": "stdout",
          "text": [
            "Accuracy 87.82519979595307 %\n"
          ]
        }
      ]
    },
    {
      "cell_type": "markdown",
      "source": [
        "It's important to note that the output algorithm is able to correctly predict individuals likely to have a bank account using the training set with a 88% accuracy.\n",
        "\n"
      ],
      "metadata": {
        "id": "GYWA4we4_-4X"
      }
    },
    {
      "cell_type": "code",
      "source": [
        "# Testing Set Performance\n",
        "cm = confusion_matrix(y_pred, y_test)\n",
        "sns.heatmap(cm, annot=True)"
      ],
      "metadata": {
        "colab": {
          "base_uri": "https://localhost:8080/",
          "height": 282
        },
        "id": "vvJPCYyVnZaZ",
        "outputId": "892f8ef5-830c-47ee-80df-881bda309d22"
      },
      "execution_count": null,
      "outputs": [
        {
          "output_type": "execute_result",
          "data": {
            "text/plain": [
              "<matplotlib.axes._subplots.AxesSubplot at 0x7f264de8a350>"
            ]
          },
          "metadata": {},
          "execution_count": 71
        },
        {
          "output_type": "display_data",
          "data": {
            "text/plain": [
              "<Figure size 432x288 with 2 Axes>"
            ],
            "image/png": "[encoded data removed]"
          },
          "metadata": {
            "needs_background": "light"
          }
        }
      ]
    },
    {
      "cell_type": "code",
      "source": [
        "print(classification_report(y_test, y_pred))"
      ],
      "metadata": {
        "colab": {
          "base_uri": "https://localhost:8080/"
        },
        "id": "2yGvSinsnf5s",
        "outputId": "9ecca00e-d625-4441-9861-a5591bad6c3e"
      },
      "execution_count": null,
      "outputs": [
        {
          "output_type": "stream",
          "name": "stdout",
          "text": [
            "              precision    recall  f1-score   support\n",
            "\n",
            "           0       0.89      0.98      0.93      5047\n",
            "           1       0.68      0.27      0.38       834\n",
            "\n",
            "    accuracy                           0.88      5881\n",
            "   macro avg       0.78      0.62      0.66      5881\n",
            "weighted avg       0.86      0.88      0.85      5881\n",
            "\n"
          ]
        }
      ]
    },
    {
      "cell_type": "markdown",
      "source": [
        "From 5881 of the testing dataset we are able to predict number of individuals most likely to have a bank account with  a 88% accuracy.\n"
      ],
      "metadata": {
        "id": "U0QVXnCEAYmc"
      }
    },
    {
      "cell_type": "markdown",
      "source": [
        "We get an 88% accuracy for test set which is similar to the train set (87.8%)  making it consistent"
      ],
      "metadata": {
        "id": "m1NJ2W9wXeBk"
      }
    },
    {
      "cell_type": "markdown",
      "source": [
        "**2. Factor Analysis**\n",
        "\n",
        "\n",
        " We go to the next data reduction technique to see if its applicable and if gives better precision and predicting. \n"
      ],
      "metadata": {
        "id": "gJ4P3YPGBzm0"
      }
    },
    {
      "cell_type": "code",
      "source": [
        "#we remind ourselves how our data looks like\n",
        "df.head()"
      ],
      "metadata": {
        "colab": {
          "base_uri": "https://localhost:8080/",
          "height": 206
        },
        "id": "SRuOJoiyD7pc",
        "outputId": "0779828e-bd7e-4b74-dcc3-a3190ea92164"
      },
      "execution_count": null,
      "outputs": [
        {
          "output_type": "execute_result",
          "data": {
            "text/plain": [
              "   country  year  Has a Bank account  Location  Cell Phone Access  HH size  \\\n",
              "0        1  2018                   1         0                  1      3.0   \n",
              "1        1  2018                   0         0                  0      5.0   \n",
              "2        1  2018                   1         1                  1      5.0   \n",
              "3        1  2018                   0         0                  1      5.0   \n",
              "4        1  2018                   0         1                  0      8.0   \n",
              "\n",
              "    Age  Gender  Relation with HH  marital_status  Level of Educuation  \\\n",
              "0  24.0       0                 1               0                    2   \n",
              "1  70.0       0                 0               2                    1   \n",
              "2  26.0       1                 4               1                    4   \n",
              "3  34.0       0                 0               0                    0   \n",
              "4  26.0       1                 2               1                    0   \n",
              "\n",
              "   Type of Job  \n",
              "0            0  \n",
              "1            6  \n",
              "2            0  \n",
              "3            5  \n",
              "4            1  "
            ],
            "text/html": [
              "\n",
              "  <div id=\"df-2878150e-e638-4503-9c16-4be052d1ca49\">\n",
              "    <div class=\"colab-df-container\">\n",
              "      <div>\n",
              "<style scoped>\n",
              "    .dataframe tbody tr th:only-of-type {\n",
              "        vertical-align: middle;\n",
              "    }\n",
              "\n",
              "    .dataframe tbody tr th {\n",
              "        vertical-align: top;\n",
              "    }\n",
              "\n",
              "    .dataframe thead th {\n",
              "        text-align: right;\n",
              "    }\n",
              "</style>\n",
              "<table border=\"1\" class=\"dataframe\">\n",
              "  <thead>\n",
              "    <tr style=\"text-align: right;\">\n",
              "      <th></th>\n",
              "      <th>country</th>\n",
              "      <th>year</th>\n",
              "      <th>Has a Bank account</th>\n",
              "      <th>Location</th>\n",
              "      <th>Cell Phone Access</th>\n",
              "      <th>HH size</th>\n",
              "      <th>Age</th>\n",
              "      <th>Gender</th>\n",
              "      <th>Relation with HH</th>\n",
              "      <th>marital_status</th>\n",
              "      <th>Level of Educuation</th>\n",
              "      <th>Type of Job</th>\n",
              "    </tr>\n",
              "  </thead>\n",
              "  <tbody>\n",
              "    <tr>\n",
              "      <th>0</th>\n",
              "      <td>1</td>\n",
              "      <td>2018</td>\n",
              "      <td>1</td>\n",
              "      <td>0</td>\n",
              "      <td>1</td>\n",
              "      <td>3.0</td>\n",
              "      <td>24.0</td>\n",
              "      <td>0</td>\n",
              "      <td>1</td>\n",
              "      <td>0</td>\n",
              "      <td>2</td>\n",
              "      <td>0</td>\n",
              "    </tr>\n",
              "    <tr>\n",
              "      <th>1</th>\n",
              "      <td>1</td>\n",
              "      <td>2018</td>\n",
              "      <td>0</td>\n",
              "      <td>0</td>\n",
              "      <td>0</td>\n",
              "      <td>5.0</td>\n",
              "      <td>70.0</td>\n",
              "      <td>0</td>\n",
              "      <td>0</td>\n",
              "      <td>2</td>\n",
              "      <td>1</td>\n",
              "      <td>6</td>\n",
              "    </tr>\n",
              "    <tr>\n",
              "      <th>2</th>\n",
              "      <td>1</td>\n",
              "      <td>2018</td>\n",
              "      <td>1</td>\n",
              "      <td>1</td>\n",
              "      <td>1</td>\n",
              "      <td>5.0</td>\n",
              "      <td>26.0</td>\n",
              "      <td>1</td>\n",
              "      <td>4</td>\n",
              "      <td>1</td>\n",
              "      <td>4</td>\n",
              "      <td>0</td>\n",
              "    </tr>\n",
              "    <tr>\n",
              "      <th>3</th>\n",
              "      <td>1</td>\n",
              "      <td>2018</td>\n",
              "      <td>0</td>\n",
              "      <td>0</td>\n",
              "      <td>1</td>\n",
              "      <td>5.0</td>\n",
              "      <td>34.0</td>\n",
              "      <td>0</td>\n",
              "      <td>0</td>\n",
              "      <td>0</td>\n",
              "      <td>0</td>\n",
              "      <td>5</td>\n",
              "    </tr>\n",
              "    <tr>\n",
              "      <th>4</th>\n",
              "      <td>1</td>\n",
              "      <td>2018</td>\n",
              "      <td>0</td>\n",
              "      <td>1</td>\n",
              "      <td>0</td>\n",
              "      <td>8.0</td>\n",
              "      <td>26.0</td>\n",
              "      <td>1</td>\n",
              "      <td>2</td>\n",
              "      <td>1</td>\n",
              "      <td>0</td>\n",
              "      <td>1</td>\n",
              "    </tr>\n",
              "  </tbody>\n",
              "</table>\n",
              "</div>\n",
              "      <button class=\"colab-df-convert\" onclick=\"convertToInteractive('df-2878150e-e638-4503-9c16-4be052d1ca49')\"\n",
              "              title=\"Convert this dataframe to an interactive table.\"\n",
              "              style=\"display:none;\">\n",
              "        \n",
              "  <svg xmlns=\"http://www.w3.org/2000/svg\" height=\"24px\"viewBox=\"0 0 24 24\"\n",
              "       width=\"24px\">\n",
              "    <path d=\"M0 0h24v24H0V0z\" fill=\"none\"/>\n",
              "    <path d=\"M18.56 5.44l.94 2.06.94-2.06 2.06-.94-2.06-.94-.94-2.06-.94 2.06-2.06.94zm-11 1L8.5 8.5l.94-2.06 2.06-.94-2.06-.94L8.5 2.5l-.94 2.06-2.06.94zm10 10l.94 2.06.94-2.06 2.06-.94-2.06-.94-.94-2.06-.94 2.06-2.06.94z\"/><path d=\"M17.41 7.96l-1.37-1.37c-.4-.4-.92-.59-1.43-.59-.52 0-1.04.2-1.43.59L10.3 9.45l-7.72 7.72c-.78.78-.78 2.05 0 2.83L4 21.41c.39.39.9.59 1.41.59.51 0 1.02-.2 1.41-.59l7.78-7.78 2.81-2.81c.8-.78.8-2.07 0-2.86zM5.41 20L4 18.59l7.72-7.72 1.47 1.35L5.41 20z\"/>\n",
              "  </svg>\n",
              "      </button>\n",
              "      \n",
              "  <style>\n",
              "    .colab-df-container {\n",
              "      display:flex;\n",
              "      flex-wrap:wrap;\n",
              "      gap: 12px;\n",
              "    }\n",
              "\n",
              "    .colab-df-convert {\n",
              "      background-color: #E8F0FE;\n",
              "      border: none;\n",
              "      border-radius: 50%;\n",
              "      cursor: pointer;\n",
              "      display: none;\n",
              "      fill: #1967D2;\n",
              "      height: 32px;\n",
              "      padding: 0 0 0 0;\n",
              "      width: 32px;\n",
              "    }\n",
              "\n",
              "    .colab-df-convert:hover {\n",
              "      background-color: #E2EBFA;\n",
              "      box-shadow: 0px 1px 2px rgba(60, 64, 67, 0.3), 0px 1px 3px 1px rgba(60, 64, 67, 0.15);\n",
              "      fill: #174EA6;\n",
              "    }\n",
              "\n",
              "    [theme=dark] .colab-df-convert {\n",
              "      background-color: #3B4455;\n",
              "      fill: #D2E3FC;\n",
              "    }\n",
              "\n",
              "    [theme=dark] .colab-df-convert:hover {\n",
              "      background-color: #434B5C;\n",
              "      box-shadow: 0px 1px 3px 1px rgba(0, 0, 0, 0.15);\n",
              "      filter: drop-shadow(0px 1px 2px rgba(0, 0, 0, 0.3));\n",
              "      fill: #FFFFFF;\n",
              "    }\n",
              "  </style>\n",
              "\n",
              "      <script>\n",
              "        const buttonEl =\n",
              "          document.querySelector('#df-2878150e-e638-4503-9c16-4be052d1ca49 button.colab-df-convert');\n",
              "        buttonEl.style.display =\n",
              "          google.colab.kernel.accessAllowed ? 'block' : 'none';\n",
              "\n",
              "        async function convertToInteractive(key) {\n",
              "          const element = document.querySelector('#df-2878150e-e638-4503-9c16-4be052d1ca49');\n",
              "          const dataTable =\n",
              "            await google.colab.kernel.invokeFunction('convertToInteractive',\n",
              "                                                     [key], {});\n",
              "          if (!dataTable) return;\n",
              "\n",
              "          const docLinkHtml = 'Like what you see? Visit the ' +\n",
              "            '<a target=\"_blank\" href=https://colab.research.google.com/notebooks/data_table.ipynb>data table notebook</a>'\n",
              "            + ' to learn more about interactive tables.';\n",
              "          element.innerHTML = '';\n",
              "          dataTable['output_type'] = 'display_data';\n",
              "          await google.colab.output.renderOutput(dataTable, element);\n",
              "          const docLink = document.createElement('div');\n",
              "          docLink.innerHTML = docLinkHtml;\n",
              "          element.appendChild(docLink);\n",
              "        }\n",
              "      </script>\n",
              "    </div>\n",
              "  </div>\n",
              "  "
            ]
          },
          "metadata": {},
          "execution_count": 82
        }
      ]
    },
    {
      "cell_type": "code",
      "source": [
        "# Installing factor analyzer \n",
        "!pip install factor_analyzer==0.2.3\n",
        "\n",
        "from factor_analyzer.factor_analyzer import calculate_bartlett_sphericity\n",
        "\n",
        "chi_square_value,p_value=calculate_bartlett_sphericity(df)\n",
        "chi_square_value, p_value\n"
      ],
      "metadata": {
        "id": "Geid2qhmAbWn",
        "colab": {
          "base_uri": "https://localhost:8080/"
        },
        "outputId": "88e0a7f1-3cd1-4d8b-eb25-3a27ffb65ea0"
      },
      "execution_count": null,
      "outputs": [
        {
          "output_type": "stream",
          "name": "stdout",
          "text": [
            "Collecting factor_analyzer==0.2.3\n",
            "  Downloading factor_analyzer-0.2.3-py2.py3-none-any.whl (23 kB)\n",
            "Requirement already satisfied: scipy in /usr/local/lib/python3.7/dist-packages (from factor_analyzer==0.2.3) (1.4.1)\n",
            "Requirement already satisfied: numpy in /usr/local/lib/python3.7/dist-packages (from factor_analyzer==0.2.3) (1.21.6)\n",
            "Requirement already satisfied: pandas in /usr/local/lib/python3.7/dist-packages (from factor_analyzer==0.2.3) (1.3.5)\n",
            "Requirement already satisfied: pytz>=2017.3 in /usr/local/lib/python3.7/dist-packages (from pandas->factor_analyzer==0.2.3) (2022.1)\n",
            "Requirement already satisfied: python-dateutil>=2.7.3 in /usr/local/lib/python3.7/dist-packages (from pandas->factor_analyzer==0.2.3) (2.8.2)\n",
            "Requirement already satisfied: six>=1.5 in /usr/local/lib/python3.7/dist-packages (from python-dateutil>=2.7.3->pandas->factor_analyzer==0.2.3) (1.15.0)\n",
            "Installing collected packages: factor-analyzer\n",
            "Successfully installed factor-analyzer-0.2.3\n"
          ]
        },
        {
          "output_type": "execute_result",
          "data": {
            "text/plain": [
              "(90142.17874178833, 0.0)"
            ]
          },
          "metadata": {},
          "execution_count": 83
        }
      ]
    },
    {
      "cell_type": "markdown",
      "source": [
        "In the above Bartlett ’s test, the p-value is 0. The test was statistically significant, indicating that the observed correlation matrix is not an identity matrix."
      ],
      "metadata": {
        "id": "96scXWndENlI"
      }
    },
    {
      "cell_type": "code",
      "source": [
        "# Kaiser-Meyer-Olkin (KMO) Test measures the suitability of data for factor analysis. \n",
        " \n",
        "from factor_analyzer.factor_analyzer import calculate_kmo\n",
        "\n",
        "kmo_all,kmo_model=calculate_kmo(df)\n",
        "print(kmo_model)"
      ],
      "metadata": {
        "id": "6URw5rDbAbT1",
        "colab": {
          "base_uri": "https://localhost:8080/"
        },
        "outputId": "7449a437-14b1-4d50-cf19-0772244c4a7b"
      },
      "execution_count": null,
      "outputs": [
        {
          "output_type": "stream",
          "name": "stdout",
          "text": [
            "0.5260411522506827\n"
          ]
        }
      ]
    },
    {
      "cell_type": "markdown",
      "source": [
        "Our KMO is 0.5 rendering it Miserable inthe KMO classification\n",
        "\n",
        "\n",
        "This means this form of data reduction is not ideal for our data set for predicting which respondents are likely to have a bank account"
      ],
      "metadata": {
        "id": "WvCqs201MZbH"
      }
    },
    {
      "cell_type": "markdown",
      "source": [
        "**3.  Linear Discriminant Analysis**\n",
        "\n",
        "\n"
      ],
      "metadata": {
        "id": "5OK_IhUOBi33"
      }
    },
    {
      "cell_type": "code",
      "source": [
        "#wefirst remind ourselves how our data looks like\n",
        "df.head()"
      ],
      "metadata": {
        "colab": {
          "base_uri": "https://localhost:8080/",
          "height": 206
        },
        "id": "zSNUKRybNnU7",
        "outputId": "d6edfdc6-503a-4b81-bae7-514c17828ee6"
      },
      "execution_count": null,
      "outputs": [
        {
          "output_type": "execute_result",
          "data": {
            "text/plain": [
              "   country  year  Has a Bank account  Location  Cell Phone Access  HH size  \\\n",
              "0        1  2018                   1         0                  1      3.0   \n",
              "1        1  2018                   0         0                  0      5.0   \n",
              "2        1  2018                   1         1                  1      5.0   \n",
              "3        1  2018                   0         0                  1      5.0   \n",
              "4        1  2018                   0         1                  0      8.0   \n",
              "\n",
              "    Age  Gender  Relation with HH  marital_status  Level of Educuation  \\\n",
              "0  24.0       0                 1               0                    2   \n",
              "1  70.0       0                 0               2                    1   \n",
              "2  26.0       1                 4               1                    4   \n",
              "3  34.0       0                 0               0                    0   \n",
              "4  26.0       1                 2               1                    0   \n",
              "\n",
              "   Type of Job  \n",
              "0            0  \n",
              "1            6  \n",
              "2            0  \n",
              "3            5  \n",
              "4            1  "
            ],
            "text/html": [
              "\n",
              "  <div id=\"df-0b186f70-27e2-47f5-a575-9ca90a4a6ef0\">\n",
              "    <div class=\"colab-df-container\">\n",
              "      <div>\n",
              "<style scoped>\n",
              "    .dataframe tbody tr th:only-of-type {\n",
              "        vertical-align: middle;\n",
              "    }\n",
              "\n",
              "    .dataframe tbody tr th {\n",
              "        vertical-align: top;\n",
              "    }\n",
              "\n",
              "    .dataframe thead th {\n",
              "        text-align: right;\n",
              "    }\n",
              "</style>\n",
              "<table border=\"1\" class=\"dataframe\">\n",
              "  <thead>\n",
              "    <tr style=\"text-align: right;\">\n",
              "      <th></th>\n",
              "      <th>country</th>\n",
              "      <th>year</th>\n",
              "      <th>Has a Bank account</th>\n",
              "      <th>Location</th>\n",
              "      <th>Cell Phone Access</th>\n",
              "      <th>HH size</th>\n",
              "      <th>Age</th>\n",
              "      <th>Gender</th>\n",
              "      <th>Relation with HH</th>\n",
              "      <th>marital_status</th>\n",
              "      <th>Level of Educuation</th>\n",
              "      <th>Type of Job</th>\n",
              "    </tr>\n",
              "  </thead>\n",
              "  <tbody>\n",
              "    <tr>\n",
              "      <th>0</th>\n",
              "      <td>1</td>\n",
              "      <td>2018</td>\n",
              "      <td>1</td>\n",
              "      <td>0</td>\n",
              "      <td>1</td>\n",
              "      <td>3.0</td>\n",
              "      <td>24.0</td>\n",
              "      <td>0</td>\n",
              "      <td>1</td>\n",
              "      <td>0</td>\n",
              "      <td>2</td>\n",
              "      <td>0</td>\n",
              "    </tr>\n",
              "    <tr>\n",
              "      <th>1</th>\n",
              "      <td>1</td>\n",
              "      <td>2018</td>\n",
              "      <td>0</td>\n",
              "      <td>0</td>\n",
              "      <td>0</td>\n",
              "      <td>5.0</td>\n",
              "      <td>70.0</td>\n",
              "      <td>0</td>\n",
              "      <td>0</td>\n",
              "      <td>2</td>\n",
              "      <td>1</td>\n",
              "      <td>6</td>\n",
              "    </tr>\n",
              "    <tr>\n",
              "      <th>2</th>\n",
              "      <td>1</td>\n",
              "      <td>2018</td>\n",
              "      <td>1</td>\n",
              "      <td>1</td>\n",
              "      <td>1</td>\n",
              "      <td>5.0</td>\n",
              "      <td>26.0</td>\n",
              "      <td>1</td>\n",
              "      <td>4</td>\n",
              "      <td>1</td>\n",
              "      <td>4</td>\n",
              "      <td>0</td>\n",
              "    </tr>\n",
              "    <tr>\n",
              "      <th>3</th>\n",
              "      <td>1</td>\n",
              "      <td>2018</td>\n",
              "      <td>0</td>\n",
              "      <td>0</td>\n",
              "      <td>1</td>\n",
              "      <td>5.0</td>\n",
              "      <td>34.0</td>\n",
              "      <td>0</td>\n",
              "      <td>0</td>\n",
              "      <td>0</td>\n",
              "      <td>0</td>\n",
              "      <td>5</td>\n",
              "    </tr>\n",
              "    <tr>\n",
              "      <th>4</th>\n",
              "      <td>1</td>\n",
              "      <td>2018</td>\n",
              "      <td>0</td>\n",
              "      <td>1</td>\n",
              "      <td>0</td>\n",
              "      <td>8.0</td>\n",
              "      <td>26.0</td>\n",
              "      <td>1</td>\n",
              "      <td>2</td>\n",
              "      <td>1</td>\n",
              "      <td>0</td>\n",
              "      <td>1</td>\n",
              "    </tr>\n",
              "  </tbody>\n",
              "</table>\n",
              "</div>\n",
              "      <button class=\"colab-df-convert\" onclick=\"convertToInteractive('df-0b186f70-27e2-47f5-a575-9ca90a4a6ef0')\"\n",
              "              title=\"Convert this dataframe to an interactive table.\"\n",
              "              style=\"display:none;\">\n",
              "        \n",
              "  <svg xmlns=\"http://www.w3.org/2000/svg\" height=\"24px\"viewBox=\"0 0 24 24\"\n",
              "       width=\"24px\">\n",
              "    <path d=\"M0 0h24v24H0V0z\" fill=\"none\"/>\n",
              "    <path d=\"M18.56 5.44l.94 2.06.94-2.06 2.06-.94-2.06-.94-.94-2.06-.94 2.06-2.06.94zm-11 1L8.5 8.5l.94-2.06 2.06-.94-2.06-.94L8.5 2.5l-.94 2.06-2.06.94zm10 10l.94 2.06.94-2.06 2.06-.94-2.06-.94-.94-2.06-.94 2.06-2.06.94z\"/><path d=\"M17.41 7.96l-1.37-1.37c-.4-.4-.92-.59-1.43-.59-.52 0-1.04.2-1.43.59L10.3 9.45l-7.72 7.72c-.78.78-.78 2.05 0 2.83L4 21.41c.39.39.9.59 1.41.59.51 0 1.02-.2 1.41-.59l7.78-7.78 2.81-2.81c.8-.78.8-2.07 0-2.86zM5.41 20L4 18.59l7.72-7.72 1.47 1.35L5.41 20z\"/>\n",
              "  </svg>\n",
              "      </button>\n",
              "      \n",
              "  <style>\n",
              "    .colab-df-container {\n",
              "      display:flex;\n",
              "      flex-wrap:wrap;\n",
              "      gap: 12px;\n",
              "    }\n",
              "\n",
              "    .colab-df-convert {\n",
              "      background-color: #E8F0FE;\n",
              "      border: none;\n",
              "      border-radius: 50%;\n",
              "      cursor: pointer;\n",
              "      display: none;\n",
              "      fill: #1967D2;\n",
              "      height: 32px;\n",
              "      padding: 0 0 0 0;\n",
              "      width: 32px;\n",
              "    }\n",
              "\n",
              "    .colab-df-convert:hover {\n",
              "      background-color: #E2EBFA;\n",
              "      box-shadow: 0px 1px 2px rgba(60, 64, 67, 0.3), 0px 1px 3px 1px rgba(60, 64, 67, 0.15);\n",
              "      fill: #174EA6;\n",
              "    }\n",
              "\n",
              "    [theme=dark] .colab-df-convert {\n",
              "      background-color: #3B4455;\n",
              "      fill: #D2E3FC;\n",
              "    }\n",
              "\n",
              "    [theme=dark] .colab-df-convert:hover {\n",
              "      background-color: #434B5C;\n",
              "      box-shadow: 0px 1px 3px 1px rgba(0, 0, 0, 0.15);\n",
              "      filter: drop-shadow(0px 1px 2px rgba(0, 0, 0, 0.3));\n",
              "      fill: #FFFFFF;\n",
              "    }\n",
              "  </style>\n",
              "\n",
              "      <script>\n",
              "        const buttonEl =\n",
              "          document.querySelector('#df-0b186f70-27e2-47f5-a575-9ca90a4a6ef0 button.colab-df-convert');\n",
              "        buttonEl.style.display =\n",
              "          google.colab.kernel.accessAllowed ? 'block' : 'none';\n",
              "\n",
              "        async function convertToInteractive(key) {\n",
              "          const element = document.querySelector('#df-0b186f70-27e2-47f5-a575-9ca90a4a6ef0');\n",
              "          const dataTable =\n",
              "            await google.colab.kernel.invokeFunction('convertToInteractive',\n",
              "                                                     [key], {});\n",
              "          if (!dataTable) return;\n",
              "\n",
              "          const docLinkHtml = 'Like what you see? Visit the ' +\n",
              "            '<a target=\"_blank\" href=https://colab.research.google.com/notebooks/data_table.ipynb>data table notebook</a>'\n",
              "            + ' to learn more about interactive tables.';\n",
              "          element.innerHTML = '';\n",
              "          dataTable['output_type'] = 'display_data';\n",
              "          await google.colab.output.renderOutput(dataTable, element);\n",
              "          const docLink = document.createElement('div');\n",
              "          docLink.innerHTML = docLinkHtml;\n",
              "          element.appendChild(docLink);\n",
              "        }\n",
              "      </script>\n",
              "    </div>\n",
              "  </div>\n",
              "  "
            ]
          },
          "metadata": {},
          "execution_count": 100
        }
      ]
    },
    {
      "cell_type": "code",
      "source": [
        "# First step is to divide dataset into features and corresponding labels and then divide the resultant dataset into training and test sets. \n",
        "X = df.drop('Has a Bank account', 1)\n",
        "y = df['Has a Bank account']"
      ],
      "metadata": {
        "colab": {
          "base_uri": "https://localhost:8080/"
        },
        "id": "rTAWF1HSOO6f",
        "outputId": "06fcff6d-e5ee-41d6-871b-25ce907ceb61"
      },
      "execution_count": null,
      "outputs": [
        {
          "output_type": "stream",
          "name": "stderr",
          "text": [
            "/usr/local/lib/python3.7/dist-packages/ipykernel_launcher.py:2: FutureWarning: In a future version of pandas all arguments of DataFrame.drop except for the argument 'labels' will be keyword-only\n",
            "  \n"
          ]
        }
      ]
    },
    {
      "cell_type": "code",
      "source": [
        "#we then divide data into training and test sets\n",
        "\n",
        "from sklearn.model_selection import train_test_split\n",
        "X_train, X_test, y_train, y_test = train_test_split(X, y, test_size=0.2, random_state=0)"
      ],
      "metadata": {
        "id": "ju3nGIlMBFtD"
      },
      "execution_count": null,
      "outputs": []
    },
    {
      "cell_type": "code",
      "source": [
        "# we perform Feature scaling\n",
        " \n",
        "from sklearn.preprocessing import StandardScaler\n",
        "sc = StandardScaler()\n",
        "X_train = sc.fit_transform(X_train)\n",
        "X_test = sc.transform(X_test)"
      ],
      "metadata": {
        "id": "vowGYpcWBU9j"
      },
      "execution_count": null,
      "outputs": []
    },
    {
      "cell_type": "code",
      "source": [
        "# Peforming LDA\n",
        "from sklearn.discriminant_analysis import LinearDiscriminantAnalysis as LDA\n",
        "lda = LDA(n_components=1)\n",
        "X_train = lda.fit_transform(X_train, y_train)\n",
        "X_test = lda.transform(X_test)"
      ],
      "metadata": {
        "id": "0XEUUMCCBU6H"
      },
      "execution_count": null,
      "outputs": []
    },
    {
      "cell_type": "code",
      "source": [
        "# Training and Making Predictions\n",
        "from sklearn.ensemble import RandomForestClassifier\n",
        "\n",
        "classifier = RandomForestClassifier(max_depth=2, random_state=0)\n",
        "classifier.fit(X_train, y_train)\n",
        "y_pred = classifier.predict(X_test)"
      ],
      "metadata": {
        "id": "9WnUQS0lBU3J"
      },
      "execution_count": null,
      "outputs": []
    },
    {
      "cell_type": "code",
      "source": [
        "# Evaluating the Performance\n",
        "from sklearn.metrics import confusion_matrix\n",
        "from sklearn.metrics import accuracy_score\n",
        "\n",
        "cm = confusion_matrix(y_test, y_pred)\n",
        "print(cm)\n",
        "print('Accuracy' + str(accuracy_score(y_test, y_pred)))\n",
        "\n",
        "# We can see that with one linear discriminant, the algorithm achieved an accuracy of 100%, \n",
        "# which is greater than the accuracy achieved with one principal component, which was 93.33%."
      ],
      "metadata": {
        "id": "54b4Ygj8BU0f",
        "colab": {
          "base_uri": "https://localhost:8080/"
        },
        "outputId": "20224950-0d97-4384-9730-fc40bff12864"
      },
      "execution_count": null,
      "outputs": [
        {
          "output_type": "stream",
          "name": "stdout",
          "text": [
            "[[3955   90]\n",
            " [ 471  189]]\n",
            "Accuracy0.8807651434643996\n"
          ]
        }
      ]
    },
    {
      "cell_type": "markdown",
      "source": [
        "We can see that with one linear discriminant, the algorithm achieved an accuracy of 88%, which is similar to the accuracy achieved with principal component, which was 88%."
      ],
      "metadata": {
        "id": "aCz1biAqPV0m"
      }
    },
    {
      "cell_type": "markdown",
      "source": [
        "## **Conclusion**\n",
        "\n",
        "*   Both LDA and PCA gave us a similar accuracy of 88% while making a prediction of which individual is more likely to have or use a bank account.\n",
        "\n",
        "*   Both methods are used in data reduction. They both convert high dimensinal data into low dimensial data\n",
        "\n",
        "*   PCA is used best for numerical data. It's an unsupervised learning algorithm as it ignores the class labels that maximize the variance in a dataset, to find the directions. In other words, PCA is basically summarization of data.\n",
        "\n",
        "*   LDA is a supervised algorithm as it takes the class label into consideration. It is a way to reduce ‘dimensionality’ while at the same time preserving as much of the class discrimination information as possible.\n",
        "\n",
        "\n",
        "\n"
      ],
      "metadata": {
        "id": "7Hhf7bsLRGb4"
      }
    },
    {
      "cell_type": "markdown",
      "source": [
        "### **Recommendation**\n",
        "\n",
        "Considering our dataset had alot of categorical data the best method to predict which individuals are more likely to have or use a bank account for this project is **Linear Discriminant Analysis (LDA)**."
      ],
      "metadata": {
        "id": "AbLkdYzOUxPb"
      }
    },
    {
      "cell_type": "code",
      "source": [
        ""
      ],
      "metadata": {
        "id": "ALvRIYExVW8j"
      },
      "execution_count": null,
      "outputs": []
    }
  ],
  "metadata": {
    "colab": {
      "collapsed_sections": [],
      "name": "Moringa_Data_Science_Core_W2_Independent_Project_2022_05_Margaret_Gathoni.ipynb",
      "provenance": []
    },
    "kernelspec": {
      "display_name": "Python 3",
      "name": "python3"
    },
    "language_info": {
      "name": "python"
    }
  },
  "nbformat": 4,
  "nbformat_minor": 0
}